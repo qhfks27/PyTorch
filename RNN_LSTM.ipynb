{
  "nbformat": 4,
  "nbformat_minor": 0,
  "metadata": {
    "colab": {
      "name": "RNN_LSTM.ipynb",
      "provenance": [],
      "collapsed_sections": [],
      "authorship_tag": "ABX9TyP/rBr+4gisgxSNqN++hpXW",
      "include_colab_link": true
    },
    "kernelspec": {
      "name": "python3",
      "display_name": "Python 3"
    },
    "accelerator": "GPU"
  },
  "cells": [
    {
      "cell_type": "markdown",
      "metadata": {
        "id": "view-in-github",
        "colab_type": "text"
      },
      "source": [
        "<a href=\"https://colab.research.google.com/github/qhfks27/PyTorch/blob/master/RNN_LSTM.ipynb\" target=\"_parent\"><img src=\"https://colab.research.google.com/assets/colab-badge.svg\" alt=\"Open In Colab\"/></a>"
      ]
    },
    {
      "cell_type": "markdown",
      "metadata": {
        "id": "6rUz7Dg7j1L6",
        "colab_type": "text"
      },
      "source": [
        "# RNN\n",
        "\n",
        "RNN : 데이터가 순서대로 나열된 순차적 데이터(sequential data) 혹은 시계열 데이터(time series data)의 정보를 받아 전체 내용을 학습하는 신경망    \n",
        "## 영화 리뷰 감정 분석 (텍스트 감정 분석)\n",
        "   \n",
        "\n",
        "- IMDB : 인터넷 영화 데이터 베이스. 텍스트 형태의 데이터셋   \n",
        "\n",
        "영화 리뷰 텍스트를 RNN에 입력해 영화평 전체 내용을 압축하고 이 압축된 리뷰가 긍정적인지 부정적인지 판단해주는 간단한 분류 모델을 만드는 것이 목표이다. \n",
        "\n",
        "긍정적인 영화 리뷰는 2, 부정적인 영화는 1로 레이블링."
      ]
    },
    {
      "cell_type": "code",
      "metadata": {
        "id": "F2GFaQAWdszt",
        "colab_type": "code",
        "colab": {}
      },
      "source": [
        "import os\n",
        "import torch\n",
        "import torch.nn as nn\n",
        "import torch.nn.functional as F\n",
        "from torchtext import data, datasets       #자연어 데이터셋을 다루므로 토치비전이 아닌 토치텍스트 사용\n",
        "from torchsummary import summary"
      ],
      "execution_count": 0,
      "outputs": []
    },
    {
      "cell_type": "code",
      "metadata": {
        "id": "gtXURpr5dtsv",
        "colab_type": "code",
        "outputId": "d5810e19-a7de-46bf-92cf-b253b36fefe7",
        "colab": {
          "base_uri": "https://localhost:8080/",
          "height": 34
        }
      },
      "source": [
        "BATCH_SIZE = 64\n",
        "lr = 0.001\n",
        "EPOCHS = 20\n",
        "USE_CUDA = torch.cuda.is_available()\n",
        "DEVICE = torch.device(\"cuda\" if USE_CUDA else \"cpu\")\n",
        "print(\"다음 기기로 학습합니다:\", DEVICE)"
      ],
      "execution_count": 0,
      "outputs": [
        {
          "output_type": "stream",
          "text": [
            "다음 기기로 학습합니다: cuda\n"
          ],
          "name": "stdout"
        }
      ]
    },
    {
      "cell_type": "code",
      "metadata": {
        "id": "3d9Ez9tEiLjl",
        "colab_type": "code",
        "outputId": "544b05fd-6a12-4171-a99a-640e281efdbd",
        "colab": {
          "base_uri": "https://localhost:8080/",
          "height": 34
        }
      },
      "source": [
        "TEXT = data.Field(sequential=True, batch_first=True, lower=True)    \n",
        "LABEL = data.Field(sequential=False, batch_first=True)\n",
        "#sequential 파라미터를 이용해 테이터셋이 순차적인 데이터임을 명시\n",
        "#batch_first 파라미터로 신경망에 입력되는 텐서의 첫번째 차원값이 batch_size가 되도록 정함.             \n",
        "trainset, testset = datasets.IMDB.splits(TEXT, LABEL)\n",
        "TEXT.build_vocab(trainset, min_freq=5)\n",
        "LABEL.build_vocab(trainset)"
      ],
      "execution_count": 0,
      "outputs": [
        {
          "output_type": "stream",
          "text": [
            "데이터 로딩중...\n"
          ],
          "name": "stdout"
        }
      ]
    },
    {
      "cell_type": "code",
      "metadata": {
        "id": "wF-iTKsaiNyB",
        "colab_type": "code",
        "outputId": "63119d40-c0de-4d49-f357-5911248cca1e",
        "colab": {
          "base_uri": "https://localhost:8080/",
          "height": 34
        }
      },
      "source": [
        "#IMDB 데이터셋에선 따로 검증셋이 존재하지않아 학습 진행도 확인을 위한 검증셋이 부족해 데이터셋을 쪼개어 사용.\n",
        "trainset, valset = trainset.split(split_ratio=0.8)   \n",
        "#trainset, valset, testset에서 반복할 때마다 배치를 생성해주는 반복자 형성.\n",
        "train_iter, val_iter, test_iter = data.BucketIterator.splits(\n",
        "        (trainset, valset, testset), batch_size=BATCH_SIZE,\n",
        "        shuffle=True, repeat=False)\n",
        "\n",
        "#사전 속 단어들의 개수와 레이블의 수를 정해준느 변수를 만듦.\n",
        "vocab_size = len(TEXT.vocab)\n",
        "n_classes = 2\n",
        "\n",
        "\n",
        "print(\"[학습셋]: %d [검증셋]: %d [테스트셋]: %d [단어수]: %d [클래스] %d\"\n",
        "      % (len(trainset),len(valset), len(testset), vocab_size, n_classes))"
      ],
      "execution_count": 0,
      "outputs": [
        {
          "output_type": "stream",
          "text": [
            "[학습셋]: 20000 [검증셋]: 5000 [테스트셋]: 25000 [단어수]: 46159 [클래스] 2\n"
          ],
          "name": "stdout"
        }
      ]
    },
    {
      "cell_type": "markdown",
      "metadata": {
        "id": "n8zlsEmerIb-",
        "colab_type": "text"
      },
      "source": [
        "##LSTM과 GRU\n",
        "-LSTM(Long Short-Term Memory) : 은닉층의 메모리 셀에 입력 게이트, 삭제 게이트, 출력 게이트를 추가하여 불필요한 기억을 지우고 기억해야할 것들을 정하는 RNN   \n",
        "-GRU(Gated Recurrent Unit) : 업데이트 게이트와 리셋 게이트 두가지 게이트만 존재. LSTM보다 학습 속도가 빠르다고 알려져있지만 GRU와 LSTM은 비슷한 성능을 보인다고 알려져있음. GRU는 학습 도중 기울기가 폭발적으로 커지거나 작아지는 현상을 막기위해 개발한 형태."
      ]
    },
    {
      "cell_type": "code",
      "metadata": {
        "id": "G15VZy96iV8V",
        "colab_type": "code",
        "colab": {}
      },
      "source": [
        "class LSTM(nn.Module):\n",
        "    def __init__(self, n_layers, hidden_dim, n_vocab, embed_dim, n_classes, dropout_p=0.2):\n",
        "        super(LSTM, self).__init__()\n",
        "        print(\"Building LSTM model...\")\n",
        "        self.n_layers = n_layers\n",
        "        self.embed = nn.Embedding(n_vocab, embed_dim)      #총 단어의 개수, 임베딩된 단어 텐서가 지니는 텐서값\n",
        "        self.hidden_dim = hidden_dim                       #은닉벡터의 차원값 정의\n",
        "        self.dropout = nn.Dropout(dropout_p)               #드롭아웃 설정\n",
        "        self.lstm = nn.LSTM(embed_dim, self.hidden_dim,\n",
        "                          num_layers=self.n_layers,\n",
        "                          batch_first=True)\n",
        "        self.out = nn.Linear(self.hidden_dim, n_classes)\n",
        "\n",
        "    def forward(self, x):\n",
        "        x = self.embed(x)                                  #임베딩을 통해 영화평들을 벡터의 배열, 시계열 데이터로 변환\n",
        "        h_0 = self._init_state(batch_size=x.size(0))       #첫번째 은닉벡터 정의\n",
        "        c_0 = self._init_state(batch_size=x.size(0))       #cell state 정의\n",
        "        x, _ = self.lstm(x, (h_0, c_0))  # [i, b, h]\n",
        "        h_t = x[:,-1,:]\n",
        "        self.dropout(h_t)\n",
        "        logit = self.out(h_t)  # [b, h] -> [b, o]\n",
        "        return logit\n",
        "    \n",
        "    def _init_state(self, batch_size=1):\n",
        "        weight = next(self.parameters()).data             #가중치 텐서 추출\n",
        "        return weight.new(self.n_layers, batch_size, self.hidden_dim).zero_()   #첫번째 은닉벡터를 모든 특성값이 0인 벡터가 되도록 설정"
      ],
      "execution_count": 0,
      "outputs": []
    },
    {
      "cell_type": "code",
      "metadata": {
        "id": "pBcqiDfIq2Zs",
        "colab_type": "code",
        "colab": {}
      },
      "source": [
        "class BasicGRU(nn.Module):\n",
        "    def __init__(self, n_layers, hidden_dim, n_vocab, embed_dim, n_classes, dropout_p=0.2):\n",
        "        super(BasicGRU, self).__init__()\n",
        "        print(\"Building Basic GRU model...\")\n",
        "        self.n_layers = n_layers\n",
        "        self.embed = nn.Embedding(n_vocab, embed_dim)\n",
        "        self.hidden_dim = hidden_dim\n",
        "        self.dropout = nn.Dropout(dropout_p)\n",
        "        self.gru = nn.GRU(embed_dim, self.hidden_dim,\n",
        "                          num_layers=self.n_layers,\n",
        "                          batch_first=True)\n",
        "        self.out = nn.Linear(self.hidden_dim, n_classes)\n",
        "\n",
        "    def forward(self, x):\n",
        "        x = self.embed(x)\n",
        "        h_0 = self._init_state(batch_size=x.size(0))\n",
        "        x, _ = self.gru(x, h_0)  # [i, b, h]\n",
        "        h_t = x[:,-1,:]\n",
        "        self.dropout(h_t)\n",
        "        logit = self.out(h_t)  # [b, h] -> [b, o]\n",
        "        return logit\n",
        "    \n",
        "    def _init_state(self, batch_size=1):\n",
        "        weight = next(self.parameters()).data\n",
        "        return weight.new(self.n_layers, batch_size, self.hidden_dim).zero_()"
      ],
      "execution_count": 0,
      "outputs": []
    },
    {
      "cell_type": "code",
      "metadata": {
        "id": "yGdO80tniWqc",
        "colab_type": "code",
        "colab": {}
      },
      "source": [
        "def train(model, optimizer, train_iter):\n",
        "    model.train()\n",
        "    for b, batch in enumerate(train_iter):   #반복마다 배치 데이터 반환\n",
        "        x, y = batch.text.to(DEVICE), batch.label.to(DEVICE)\n",
        "        y.data.sub_(1)  # 레이블 값을 0과 1로 변환\n",
        "        optimizer.zero_grad()  #기울기 0으로 초기화\n",
        "\n",
        "        logit = model(x)\n",
        "        loss = F.cross_entropy(logit, y)\n",
        "        loss.backward()\n",
        "        optimizer.step()\n",
        "\n",
        "\n",
        "def evaluate(model, val_iter):\n",
        "    \"\"\"evaluate model\"\"\"\n",
        "    model.eval()\n",
        "    corrects, total_loss = 0, 0\n",
        "    for batch in val_iter:\n",
        "        x, y = batch.text.to(DEVICE), batch.label.to(DEVICE)\n",
        "        y.data.sub_(1) # 레이블 값을 0과 1로 변환\n",
        "        logit = model(x)\n",
        "        loss = F.cross_entropy(logit, y, reduction='sum')\n",
        "        total_loss += loss.item()\n",
        "        corrects += (logit.max(1)[1].view(y.size()).data == y.data).sum()\n",
        "    size = len(val_iter.dataset)\n",
        "    avg_loss = total_loss / size\n",
        "    avg_accuracy = 100.0 * corrects / size\n",
        "    return avg_loss, avg_accuracy\n"
      ],
      "execution_count": 0,
      "outputs": []
    },
    {
      "cell_type": "code",
      "metadata": {
        "id": "-fmEkM6mieIq",
        "colab_type": "code",
        "outputId": "8690f39a-f29c-4eb2-e682-d7a064866449",
        "colab": {
          "base_uri": "https://localhost:8080/",
          "height": 34
        }
      },
      "source": [
        "model = LSTM(1, 256, vocab_size, 128, n_classes, 0.5).to(DEVICE)\n",
        "optimizer = torch.optim.Adam(model.parameters(), lr=lr)"
      ],
      "execution_count": 0,
      "outputs": [
        {
          "output_type": "stream",
          "text": [
            "Building LSTM model...\n"
          ],
          "name": "stdout"
        }
      ]
    },
    {
      "cell_type": "code",
      "metadata": {
        "id": "H0jNcT3XijVl",
        "colab_type": "code",
        "outputId": "f6128cf4-7ed9-477a-94b1-68549947e1be",
        "colab": {
          "base_uri": "https://localhost:8080/",
          "height": 369
        }
      },
      "source": [
        "best_val_loss = None\n",
        "for e in range(1, EPOCHS+1):\n",
        "    train(model, optimizer, train_iter)\n",
        "    val_loss, val_accuracy = evaluate(model, val_iter)\n",
        "\n",
        "    print(\"[이폭: %d] 검증 오차:%5.2f | 검증 정확도:%5.2f\" % (e, val_loss, val_accuracy))\n",
        "    \n",
        "    # 검증 오차가 가장 적은 최적의 모델을 저장\n",
        "    if not best_val_loss or val_loss < best_val_loss:\n",
        "        if not os.path.isdir(\"snapshot\"):\n",
        "            os.makedirs(\"snapshot\")\n",
        "        torch.save(model.state_dict(), './snapshot/txtclassification.pt')\n",
        "        best_val_loss = val_loss"
      ],
      "execution_count": 0,
      "outputs": [
        {
          "output_type": "stream",
          "text": [
            "[이폭: 1] 검증 오차: 0.69 | 검증 정확도:49.80\n",
            "[이폭: 2] 검증 오차: 0.69 | 검증 정확도:50.24\n",
            "[이폭: 3] 검증 오차: 0.70 | 검증 정확도:49.64\n",
            "[이폭: 4] 검증 오차: 0.70 | 검증 정확도:49.56\n",
            "[이폭: 5] 검증 오차: 0.72 | 검증 정확도:51.02\n",
            "[이폭: 6] 검증 오차: 0.72 | 검증 정확도:50.36\n",
            "[이폭: 7] 검증 오차: 0.74 | 검증 정확도:53.18\n",
            "[이폭: 8] 검증 오차: 0.72 | 검증 정확도:51.44\n",
            "[이폭: 9] 검증 오차: 0.73 | 검증 정확도:51.48\n",
            "[이폭: 10] 검증 오차: 0.75 | 검증 정확도:51.96\n",
            "[이폭: 11] 검증 오차: 0.74 | 검증 정확도:53.18\n",
            "[이폭: 12] 검증 오차: 0.73 | 검증 정확도:56.92\n",
            "[이폭: 13] 검증 오차: 0.58 | 검증 정확도:73.62\n",
            "[이폭: 14] 검증 오차: 0.71 | 검증 정확도:50.54\n",
            "[이폭: 15] 검증 오차: 0.71 | 검증 정확도:52.98\n",
            "[이폭: 16] 검증 오차: 0.70 | 검증 정확도:58.24\n",
            "[이폭: 17] 검증 오차: 0.58 | 검증 정확도:73.62\n",
            "[이폭: 18] 검증 오차: 0.50 | 검증 정확도:78.16\n",
            "[이폭: 19] 검증 오차: 0.43 | 검증 정확도:83.28\n",
            "[이폭: 20] 검증 오차: 0.45 | 검증 정확도:84.16\n"
          ],
          "name": "stdout"
        }
      ]
    },
    {
      "cell_type": "code",
      "metadata": {
        "id": "O7hWQ7rHilyT",
        "colab_type": "code",
        "outputId": "d3c66a6f-5396-4aad-8995-1f931028e460",
        "colab": {
          "base_uri": "https://localhost:8080/",
          "height": 34
        }
      },
      "source": [
        "model.load_state_dict(torch.load('./snapshot/txtclassification.pt'))\n",
        "test_loss, test_acc = evaluate(model, test_iter)\n",
        "print('테스트 오차: %5.2f | 테스트 정확도: %5.2f' % (test_loss, test_acc))"
      ],
      "execution_count": 0,
      "outputs": [
        {
          "output_type": "stream",
          "text": [
            "테스트 오차:  0.49 | 테스트 정확도: 80.98\n"
          ],
          "name": "stdout"
        }
      ]
    },
    {
      "cell_type": "code",
      "metadata": {
        "id": "x16VAqVXp4jZ",
        "colab_type": "code",
        "outputId": "3a0adafb-11e9-4b8c-b723-165fde109803",
        "colab": {
          "base_uri": "https://localhost:8080/",
          "height": 122
        }
      },
      "source": [
        "print(model)"
      ],
      "execution_count": 0,
      "outputs": [
        {
          "output_type": "stream",
          "text": [
            "LSTM(\n",
            "  (embed): Embedding(46159, 128)\n",
            "  (dropout): Dropout(p=0.5, inplace=False)\n",
            "  (lstm): LSTM(128, 256, batch_first=True)\n",
            "  (out): Linear(in_features=256, out_features=2, bias=True)\n",
            ")\n"
          ],
          "name": "stdout"
        }
      ]
    },
    {
      "cell_type": "code",
      "metadata": {
        "id": "L0d4Hwh9zjFu",
        "colab_type": "code",
        "colab": {}
      },
      "source": [
        "def count_parameters(model):\n",
        "\n",
        "    return sum(p.numel() for p in model.parameters() if p.requires_grad)"
      ],
      "execution_count": 0,
      "outputs": []
    },
    {
      "cell_type": "code",
      "metadata": {
        "id": "CE8hsiHuzk3_",
        "colab_type": "code",
        "outputId": "2156d68e-cf39-4a9f-d56b-de58b9ea1408",
        "colab": {
          "base_uri": "https://localhost:8080/",
          "height": 34
        }
      },
      "source": [
        "count = count_parameters(model)\n",
        "print(count)"
      ],
      "execution_count": 0,
      "outputs": [
        {
          "output_type": "stream",
          "text": [
            "6304130\n"
          ],
          "name": "stdout"
        }
      ]
    },
    {
      "cell_type": "markdown",
      "metadata": {
        "id": "AvUOol-E7j1H",
        "colab_type": "text"
      },
      "source": [
        "##Seq2Seq 기계번역\n",
        "영어 알파벳 문자열(\"hello\")를 스페인어 알파벳 문자열(\"hola\")로 번역하는 비니 Seq2Seq 모델 구현"
      ]
    },
    {
      "cell_type": "code",
      "metadata": {
        "id": "l95DwZVl7oof",
        "colab_type": "code",
        "colab": {}
      },
      "source": [
        "import torch\n",
        "import torch.nn as nn\n",
        "import torch.nn.functional as F\n",
        "import random\n",
        "import matplotlib.pyplot as plt"
      ],
      "execution_count": 0,
      "outputs": []
    },
    {
      "cell_type": "code",
      "metadata": {
        "id": "giEejxun7tLk",
        "colab_type": "code",
        "colab": {
          "base_uri": "https://localhost:8080/",
          "height": 52
        },
        "outputId": "7c7a436b-02a3-4337-bf0a-45196bf22807"
      },
      "source": [
        "vocab_size = 256  # 총 아스키 코드 개수\n",
        "x_ = list(map(ord, \"hello\"))  # 아스키 코드 리스트로 변환\n",
        "y_ = list(map(ord, \"hola\"))   # 아스키 코드 리스트로 변환\n",
        "print(\"hello -> \", x_)\n",
        "print(\"hola  -> \", y_)"
      ],
      "execution_count": 2,
      "outputs": [
        {
          "output_type": "stream",
          "text": [
            "hello ->  [104, 101, 108, 108, 111]\n",
            "hola  ->  [104, 111, 108, 97]\n"
          ],
          "name": "stdout"
        }
      ]
    },
    {
      "cell_type": "code",
      "metadata": {
        "id": "vxSn9hPY709-",
        "colab_type": "code",
        "colab": {}
      },
      "source": [
        "x = torch.LongTensor(x_)\n",
        "y = torch.LongTensor(y_)"
      ],
      "execution_count": 0,
      "outputs": []
    },
    {
      "cell_type": "code",
      "metadata": {
        "id": "ApCUwzU_74dB",
        "colab_type": "code",
        "colab": {}
      },
      "source": [
        "class Seq2Seq(nn.Module):\n",
        "    def __init__(self, vocab_size, hidden_size):\n",
        "        super(Seq2Seq, self).__init__()\n",
        "        self.n_layers = 1\n",
        "        self.hidden_size = hidden_size\n",
        "        self.embedding = nn.Embedding(vocab_size, hidden_size)\n",
        "        self.encoder = nn.GRU(hidden_size, hidden_size)\n",
        "        self.decoder = nn.GRU(hidden_size, hidden_size)\n",
        "        self.project = nn.Linear(hidden_size, vocab_size)\n",
        "\n",
        "    def forward(self, inputs, targets):\n",
        "        # 인코더에 들어갈 입력\n",
        "        initial_state = self._init_state()\n",
        "        embedding = self.embedding(inputs).unsqueeze(1)\n",
        "        # embedding = [seq_len, batch_size, embedding_size]\n",
        "        \n",
        "        # 인코더 (Encoder)\n",
        "        encoder_output, encoder_state = self.encoder(embedding, initial_state)\n",
        "        # encoder_output = [seq_len, batch_size, hidden_size]\n",
        "        # encoder_state  = [n_layers, seq_len, hidden_size]\n",
        "\n",
        "        # 디코더에 들어갈 입력\n",
        "        decoder_state = encoder_state\n",
        "        decoder_input = torch.LongTensor([0])\n",
        "        \n",
        "        # 디코더 (Decoder)\n",
        "        outputs = []\n",
        "        \n",
        "        for i in range(targets.size()[0]):\n",
        "            decoder_input = self.embedding(decoder_input).unsqueeze(1)\n",
        "            decoder_output, decoder_state = self.decoder(decoder_input, decoder_state)\n",
        "            projection = self.project(decoder_output)\n",
        "            outputs.append(projection)\n",
        "            \n",
        "            #티처 포싱(Teacher Forcing) 사용\n",
        "            decoder_input = torch.LongTensor([targets[i]])\n",
        "\n",
        "        outputs = torch.stack(outputs).squeeze()\n",
        "        return outputs\n",
        "    \n",
        "    def _init_state(self, batch_size=1):\n",
        "        weight = next(self.parameters()).data\n",
        "        return weight.new(self.n_layers, batch_size, self.hidden_size).zero_()"
      ],
      "execution_count": 0,
      "outputs": []
    },
    {
      "cell_type": "code",
      "metadata": {
        "id": "NQph0GL78FFP",
        "colab_type": "code",
        "colab": {}
      },
      "source": [
        "seq2seq = Seq2Seq(vocab_size, 16)\n",
        "\n",
        "\n",
        "criterion = nn.CrossEntropyLoss()\n",
        "optimizer = torch.optim.Adam(seq2seq.parameters(), lr=1e-3)"
      ],
      "execution_count": 0,
      "outputs": []
    },
    {
      "cell_type": "code",
      "metadata": {
        "id": "rSs5RXN88Hd_",
        "colab_type": "code",
        "colab": {
          "base_uri": "https://localhost:8080/",
          "height": 793
        },
        "outputId": "da981dd5-8998-47b3-aef4-ba82cffcfae2"
      },
      "source": [
        "log = []\n",
        "for i in range(1000):\n",
        "    prediction = seq2seq(x, y)\n",
        "    loss = criterion(prediction, y)\n",
        "    optimizer.zero_grad()\n",
        "    loss.backward()\n",
        "    optimizer.step()\n",
        "    loss_val = loss.data\n",
        "    log.append(loss_val)\n",
        "    if i % 100 == 0:\n",
        "        print(\"\\n 반복:%d 오차: %s\" % (i, loss_val.item()))\n",
        "        _, top1 = prediction.data.topk(1, 1)\n",
        "        print([chr(c) for c in top1.squeeze().numpy().tolist()])\n",
        "\n",
        "\n",
        "plt.plot(log)\n",
        "plt.ylabel('cross entropy loss')\n",
        "plt.show()\n"
      ],
      "execution_count": 6,
      "outputs": [
        {
          "output_type": "stream",
          "text": [
            "\n",
            " 반복:0 오차: 5.588308334350586\n",
            "['Ý', 'à', 'à', '¹']\n",
            "\n",
            " 반복:100 오차: 2.3219153881073\n",
            "['h', 'o', 'l', 'a']\n",
            "\n",
            " 반복:200 오차: 0.571672797203064\n",
            "['h', 'o', 'l', 'a']\n",
            "\n",
            " 반복:300 오차: 0.24141940474510193\n",
            "['h', 'o', 'l', 'a']\n",
            "\n",
            " 반복:400 오차: 0.14347510039806366\n",
            "['h', 'o', 'l', 'a']\n",
            "\n",
            " 반복:500 오차: 0.09880569577217102\n",
            "['h', 'o', 'l', 'a']\n",
            "\n",
            " 반복:600 오차: 0.07352884858846664\n",
            "['h', 'o', 'l', 'a']\n",
            "\n",
            " 반복:700 오차: 0.05742623656988144\n",
            "['h', 'o', 'l', 'a']\n",
            "\n",
            " 반복:800 오차: 0.046365875750780106\n",
            "['h', 'o', 'l', 'a']\n",
            "\n",
            " 반복:900 오차: 0.038359031081199646\n",
            "['h', 'o', 'l', 'a']\n"
          ],
          "name": "stdout"
        },
        {
          "output_type": "display_data",
          "data": {
            "image/png": "[encoded data removed]",
            "text/plain": [
              "<Figure size 432x288 with 1 Axes>"
            ]
          },
          "metadata": {
            "tags": []
          }
        }
      ]
    }
  ]
}