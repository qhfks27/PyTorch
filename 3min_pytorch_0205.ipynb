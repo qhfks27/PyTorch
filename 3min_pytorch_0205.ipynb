{
  "nbformat": 4,
  "nbformat_minor": 0,
  "metadata": {
    "colab": {
      "name": "3min-pytorch-2/5.ipynb",
      "provenance": [],
      "toc_visible": true,
      "authorship_tag": "ABX9TyMPkrJr3GsAjYs+bTYwjcHg",
      "include_colab_link": true
    },
    "kernelspec": {
      "name": "python3",
      "display_name": "Python 3"
    },
    "widgets": {
      "application/vnd.jupyter.widget-state+json": {
        "000c8abfb9e9494994854883bc8b0134": {
          "model_module": "@jupyter-widgets/controls",
          "model_name": "HBoxModel",
          "state": {
            "_view_name": "HBoxView",
            "_dom_classes": [],
            "_model_name": "HBoxModel",
            "_view_module": "@jupyter-widgets/controls",
            "_model_module_version": "1.5.0",
            "_view_count": null,
            "_view_module_version": "1.5.0",
            "box_style": "",
            "layout": "IPY_MODEL_517d7bd3627741d0be081815cd0d3bc6",
            "_model_module": "@jupyter-widgets/controls",
            "children": [
              "IPY_MODEL_ba64a5d6dd094a18894099a618661899",
              "IPY_MODEL_2f48fed7102341378798dae851c75e42"
            ]
          }
        },
        "517d7bd3627741d0be081815cd0d3bc6": {
          "model_module": "@jupyter-widgets/base",
          "model_name": "LayoutModel",
          "state": {
            "_view_name": "LayoutView",
            "grid_template_rows": null,
            "right": null,
            "justify_content": null,
            "_view_module": "@jupyter-widgets/base",
            "overflow": null,
            "_model_module_version": "1.2.0",
            "_view_count": null,
            "flex_flow": null,
            "width": null,
            "min_width": null,
            "border": null,
            "align_items": null,
            "bottom": null,
            "_model_module": "@jupyter-widgets/base",
            "top": null,
            "grid_column": null,
            "overflow_y": null,
            "overflow_x": null,
            "grid_auto_flow": null,
            "grid_area": null,
            "grid_template_columns": null,
            "flex": null,
            "_model_name": "LayoutModel",
            "justify_items": null,
            "grid_row": null,
            "max_height": null,
            "align_content": null,
            "visibility": null,
            "align_self": null,
            "height": null,
            "min_height": null,
            "padding": null,
            "grid_auto_rows": null,
            "grid_gap": null,
            "max_width": null,
            "order": null,
            "_view_module_version": "1.2.0",
            "grid_template_areas": null,
            "object_position": null,
            "object_fit": null,
            "grid_auto_columns": null,
            "margin": null,
            "display": null,
            "left": null
          }
        },
        "ba64a5d6dd094a18894099a618661899": {
          "model_module": "@jupyter-widgets/controls",
          "model_name": "IntProgressModel",
          "state": {
            "_view_name": "ProgressView",
            "style": "IPY_MODEL_d6a228602b124b228a45de815aceb281",
            "_dom_classes": [],
            "description": "",
            "_model_name": "IntProgressModel",
            "bar_style": "success",
            "max": 1,
            "_view_module": "@jupyter-widgets/controls",
            "_model_module_version": "1.5.0",
            "value": 1,
            "_view_count": null,
            "_view_module_version": "1.5.0",
            "orientation": "horizontal",
            "min": 0,
            "description_tooltip": null,
            "_model_module": "@jupyter-widgets/controls",
            "layout": "IPY_MODEL_a517ad510cf24f0585a101b978643eeb"
          }
        },
        "2f48fed7102341378798dae851c75e42": {
          "model_module": "@jupyter-widgets/controls",
          "model_name": "HTMLModel",
          "state": {
            "_view_name": "HTMLView",
            "style": "IPY_MODEL_dadc2686ac8847f1b121517cf0aeea9d",
            "_dom_classes": [],
            "description": "",
            "_model_name": "HTMLModel",
            "placeholder": "​",
            "_view_module": "@jupyter-widgets/controls",
            "_model_module_version": "1.5.0",
            "value": "26427392it [00:00, 67674652.27it/s]",
            "_view_count": null,
            "_view_module_version": "1.5.0",
            "description_tooltip": null,
            "_model_module": "@jupyter-widgets/controls",
            "layout": "IPY_MODEL_f975aff253fb4d92a9bccd4ba429ec8b"
          }
        },
        "d6a228602b124b228a45de815aceb281": {
          "model_module": "@jupyter-widgets/controls",
          "model_name": "ProgressStyleModel",
          "state": {
            "_view_name": "StyleView",
            "_model_name": "ProgressStyleModel",
            "description_width": "",
            "_view_module": "@jupyter-widgets/base",
            "_model_module_version": "1.5.0",
            "_view_count": null,
            "_view_module_version": "1.2.0",
            "bar_color": null,
            "_model_module": "@jupyter-widgets/controls"
          }
        },
        "a517ad510cf24f0585a101b978643eeb": {
          "model_module": "@jupyter-widgets/base",
          "model_name": "LayoutModel",
          "state": {
            "_view_name": "LayoutView",
            "grid_template_rows": null,
            "right": null,
            "justify_content": null,
            "_view_module": "@jupyter-widgets/base",
            "overflow": null,
            "_model_module_version": "1.2.0",
            "_view_count": null,
            "flex_flow": null,
            "width": null,
            "min_width": null,
            "border": null,
            "align_items": null,
            "bottom": null,
            "_model_module": "@jupyter-widgets/base",
            "top": null,
            "grid_column": null,
            "overflow_y": null,
            "overflow_x": null,
            "grid_auto_flow": null,
            "grid_area": null,
            "grid_template_columns": null,
            "flex": null,
            "_model_name": "LayoutModel",
            "justify_items": null,
            "grid_row": null,
            "max_height": null,
            "align_content": null,
            "visibility": null,
            "align_self": null,
            "height": null,
            "min_height": null,
            "padding": null,
            "grid_auto_rows": null,
            "grid_gap": null,
            "max_width": null,
            "order": null,
            "_view_module_version": "1.2.0",
            "grid_template_areas": null,
            "object_position": null,
            "object_fit": null,
            "grid_auto_columns": null,
            "margin": null,
            "display": null,
            "left": null
          }
        },
        "dadc2686ac8847f1b121517cf0aeea9d": {
          "model_module": "@jupyter-widgets/controls",
          "model_name": "DescriptionStyleModel",
          "state": {
            "_view_name": "StyleView",
            "_model_name": "DescriptionStyleModel",
            "description_width": "",
            "_view_module": "@jupyter-widgets/base",
            "_model_module_version": "1.5.0",
            "_view_count": null,
            "_view_module_version": "1.2.0",
            "_model_module": "@jupyter-widgets/controls"
          }
        },
        "f975aff253fb4d92a9bccd4ba429ec8b": {
          "model_module": "@jupyter-widgets/base",
          "model_name": "LayoutModel",
          "state": {
            "_view_name": "LayoutView",
            "grid_template_rows": null,
            "right": null,
            "justify_content": null,
            "_view_module": "@jupyter-widgets/base",
            "overflow": null,
            "_model_module_version": "1.2.0",
            "_view_count": null,
            "flex_flow": null,
            "width": null,
            "min_width": null,
            "border": null,
            "align_items": null,
            "bottom": null,
            "_model_module": "@jupyter-widgets/base",
            "top": null,
            "grid_column": null,
            "overflow_y": null,
            "overflow_x": null,
            "grid_auto_flow": null,
            "grid_area": null,
            "grid_template_columns": null,
            "flex": null,
            "_model_name": "LayoutModel",
            "justify_items": null,
            "grid_row": null,
            "max_height": null,
            "align_content": null,
            "visibility": null,
            "align_self": null,
            "height": null,
            "min_height": null,
            "padding": null,
            "grid_auto_rows": null,
            "grid_gap": null,
            "max_width": null,
            "order": null,
            "_view_module_version": "1.2.0",
            "grid_template_areas": null,
            "object_position": null,
            "object_fit": null,
            "grid_auto_columns": null,
            "margin": null,
            "display": null,
            "left": null
          }
        },
        "5f906e07bb0f41b68bb5a6fe8965b2fb": {
          "model_module": "@jupyter-widgets/controls",
          "model_name": "HBoxModel",
          "state": {
            "_view_name": "HBoxView",
            "_dom_classes": [],
            "_model_name": "HBoxModel",
            "_view_module": "@jupyter-widgets/controls",
            "_model_module_version": "1.5.0",
            "_view_count": null,
            "_view_module_version": "1.5.0",
            "box_style": "",
            "layout": "IPY_MODEL_9c3bba3d458c41068161b85236ed2efc",
            "_model_module": "@jupyter-widgets/controls",
            "children": [
              "IPY_MODEL_9e01a527d81b445f95c822d62b8b90ed",
              "IPY_MODEL_a88a5833a8374f9399c9d2eb3bd6b03c"
            ]
          }
        },
        "9c3bba3d458c41068161b85236ed2efc": {
          "model_module": "@jupyter-widgets/base",
          "model_name": "LayoutModel",
          "state": {
            "_view_name": "LayoutView",
            "grid_template_rows": null,
            "right": null,
            "justify_content": null,
            "_view_module": "@jupyter-widgets/base",
            "overflow": null,
            "_model_module_version": "1.2.0",
            "_view_count": null,
            "flex_flow": null,
            "width": null,
            "min_width": null,
            "border": null,
            "align_items": null,
            "bottom": null,
            "_model_module": "@jupyter-widgets/base",
            "top": null,
            "grid_column": null,
            "overflow_y": null,
            "overflow_x": null,
            "grid_auto_flow": null,
            "grid_area": null,
            "grid_template_columns": null,
            "flex": null,
            "_model_name": "LayoutModel",
            "justify_items": null,
            "grid_row": null,
            "max_height": null,
            "align_content": null,
            "visibility": null,
            "align_self": null,
            "height": null,
            "min_height": null,
            "padding": null,
            "grid_auto_rows": null,
            "grid_gap": null,
            "max_width": null,
            "order": null,
            "_view_module_version": "1.2.0",
            "grid_template_areas": null,
            "object_position": null,
            "object_fit": null,
            "grid_auto_columns": null,
            "margin": null,
            "display": null,
            "left": null
          }
        },
        "9e01a527d81b445f95c822d62b8b90ed": {
          "model_module": "@jupyter-widgets/controls",
          "model_name": "IntProgressModel",
          "state": {
            "_view_name": "ProgressView",
            "style": "IPY_MODEL_7a72917f749f4a7d989373f8c326b260",
            "_dom_classes": [],
            "description": "",
            "_model_name": "IntProgressModel",
            "bar_style": "success",
            "max": 1,
            "_view_module": "@jupyter-widgets/controls",
            "_model_module_version": "1.5.0",
            "value": 1,
            "_view_count": null,
            "_view_module_version": "1.5.0",
            "orientation": "horizontal",
            "min": 0,
            "description_tooltip": null,
            "_model_module": "@jupyter-widgets/controls",
            "layout": "IPY_MODEL_67c4cb54b25449018c93463dce53dab8"
          }
        },
        "a88a5833a8374f9399c9d2eb3bd6b03c": {
          "model_module": "@jupyter-widgets/controls",
          "model_name": "HTMLModel",
          "state": {
            "_view_name": "HTMLView",
            "style": "IPY_MODEL_63303c5634054464a65a415482174382",
            "_dom_classes": [],
            "description": "",
            "_model_name": "HTMLModel",
            "placeholder": "​",
            "_view_module": "@jupyter-widgets/controls",
            "_model_module_version": "1.5.0",
            "value": "32768it [00:00, 355707.44it/s]",
            "_view_count": null,
            "_view_module_version": "1.5.0",
            "description_tooltip": null,
            "_model_module": "@jupyter-widgets/controls",
            "layout": "IPY_MODEL_7a7a314b2b06459083b9fc055b13812e"
          }
        },
        "7a72917f749f4a7d989373f8c326b260": {
          "model_module": "@jupyter-widgets/controls",
          "model_name": "ProgressStyleModel",
          "state": {
            "_view_name": "StyleView",
            "_model_name": "ProgressStyleModel",
            "description_width": "",
            "_view_module": "@jupyter-widgets/base",
            "_model_module_version": "1.5.0",
            "_view_count": null,
            "_view_module_version": "1.2.0",
            "bar_color": null,
            "_model_module": "@jupyter-widgets/controls"
          }
        },
        "67c4cb54b25449018c93463dce53dab8": {
          "model_module": "@jupyter-widgets/base",
          "model_name": "LayoutModel",
          "state": {
            "_view_name": "LayoutView",
            "grid_template_rows": null,
            "right": null,
            "justify_content": null,
            "_view_module": "@jupyter-widgets/base",
            "overflow": null,
            "_model_module_version": "1.2.0",
            "_view_count": null,
            "flex_flow": null,
            "width": null,
            "min_width": null,
            "border": null,
            "align_items": null,
            "bottom": null,
            "_model_module": "@jupyter-widgets/base",
            "top": null,
            "grid_column": null,
            "overflow_y": null,
            "overflow_x": null,
            "grid_auto_flow": null,
            "grid_area": null,
            "grid_template_columns": null,
            "flex": null,
            "_model_name": "LayoutModel",
            "justify_items": null,
            "grid_row": null,
            "max_height": null,
            "align_content": null,
            "visibility": null,
            "align_self": null,
            "height": null,
            "min_height": null,
            "padding": null,
            "grid_auto_rows": null,
            "grid_gap": null,
            "max_width": null,
            "order": null,
            "_view_module_version": "1.2.0",
            "grid_template_areas": null,
            "object_position": null,
            "object_fit": null,
            "grid_auto_columns": null,
            "margin": null,
            "display": null,
            "left": null
          }
        },
        "63303c5634054464a65a415482174382": {
          "model_module": "@jupyter-widgets/controls",
          "model_name": "DescriptionStyleModel",
          "state": {
            "_view_name": "StyleView",
            "_model_name": "DescriptionStyleModel",
            "description_width": "",
            "_view_module": "@jupyter-widgets/base",
            "_model_module_version": "1.5.0",
            "_view_count": null,
            "_view_module_version": "1.2.0",
            "_model_module": "@jupyter-widgets/controls"
          }
        },
        "7a7a314b2b06459083b9fc055b13812e": {
          "model_module": "@jupyter-widgets/base",
          "model_name": "LayoutModel",
          "state": {
            "_view_name": "LayoutView",
            "grid_template_rows": null,
            "right": null,
            "justify_content": null,
            "_view_module": "@jupyter-widgets/base",
            "overflow": null,
            "_model_module_version": "1.2.0",
            "_view_count": null,
            "flex_flow": null,
            "width": null,
            "min_width": null,
            "border": null,
            "align_items": null,
            "bottom": null,
            "_model_module": "@jupyter-widgets/base",
            "top": null,
            "grid_column": null,
            "overflow_y": null,
            "overflow_x": null,
            "grid_auto_flow": null,
            "grid_area": null,
            "grid_template_columns": null,
            "flex": null,
            "_model_name": "LayoutModel",
            "justify_items": null,
            "grid_row": null,
            "max_height": null,
            "align_content": null,
            "visibility": null,
            "align_self": null,
            "height": null,
            "min_height": null,
            "padding": null,
            "grid_auto_rows": null,
            "grid_gap": null,
            "max_width": null,
            "order": null,
            "_view_module_version": "1.2.0",
            "grid_template_areas": null,
            "object_position": null,
            "object_fit": null,
            "grid_auto_columns": null,
            "margin": null,
            "display": null,
            "left": null
          }
        },
        "81de41c635c142298a0e047cffd399c3": {
          "model_module": "@jupyter-widgets/controls",
          "model_name": "HBoxModel",
          "state": {
            "_view_name": "HBoxView",
            "_dom_classes": [],
            "_model_name": "HBoxModel",
            "_view_module": "@jupyter-widgets/controls",
            "_model_module_version": "1.5.0",
            "_view_count": null,
            "_view_module_version": "1.5.0",
            "box_style": "",
            "layout": "IPY_MODEL_7790c476325a41d4911912ff0ab40a91",
            "_model_module": "@jupyter-widgets/controls",
            "children": [
              "IPY_MODEL_ee29632c37db4800ba0a8bffdf9e07f6",
              "IPY_MODEL_6f95dddca89b40b5939e9772c1f06ed8"
            ]
          }
        },
        "7790c476325a41d4911912ff0ab40a91": {
          "model_module": "@jupyter-widgets/base",
          "model_name": "LayoutModel",
          "state": {
            "_view_name": "LayoutView",
            "grid_template_rows": null,
            "right": null,
            "justify_content": null,
            "_view_module": "@jupyter-widgets/base",
            "overflow": null,
            "_model_module_version": "1.2.0",
            "_view_count": null,
            "flex_flow": null,
            "width": null,
            "min_width": null,
            "border": null,
            "align_items": null,
            "bottom": null,
            "_model_module": "@jupyter-widgets/base",
            "top": null,
            "grid_column": null,
            "overflow_y": null,
            "overflow_x": null,
            "grid_auto_flow": null,
            "grid_area": null,
            "grid_template_columns": null,
            "flex": null,
            "_model_name": "LayoutModel",
            "justify_items": null,
            "grid_row": null,
            "max_height": null,
            "align_content": null,
            "visibility": null,
            "align_self": null,
            "height": null,
            "min_height": null,
            "padding": null,
            "grid_auto_rows": null,
            "grid_gap": null,
            "max_width": null,
            "order": null,
            "_view_module_version": "1.2.0",
            "grid_template_areas": null,
            "object_position": null,
            "object_fit": null,
            "grid_auto_columns": null,
            "margin": null,
            "display": null,
            "left": null
          }
        },
        "ee29632c37db4800ba0a8bffdf9e07f6": {
          "model_module": "@jupyter-widgets/controls",
          "model_name": "IntProgressModel",
          "state": {
            "_view_name": "ProgressView",
            "style": "IPY_MODEL_b5fff4301a714c6784dda2e7ab212357",
            "_dom_classes": [],
            "description": "",
            "_model_name": "IntProgressModel",
            "bar_style": "success",
            "max": 1,
            "_view_module": "@jupyter-widgets/controls",
            "_model_module_version": "1.5.0",
            "value": 1,
            "_view_count": null,
            "_view_module_version": "1.5.0",
            "orientation": "horizontal",
            "min": 0,
            "description_tooltip": null,
            "_model_module": "@jupyter-widgets/controls",
            "layout": "IPY_MODEL_e03e5a58b6214fdd9f00cacf8051a437"
          }
        },
        "6f95dddca89b40b5939e9772c1f06ed8": {
          "model_module": "@jupyter-widgets/controls",
          "model_name": "HTMLModel",
          "state": {
            "_view_name": "HTMLView",
            "style": "IPY_MODEL_9548beeb50c24d16994ed3a496749b05",
            "_dom_classes": [],
            "description": "",
            "_model_name": "HTMLModel",
            "placeholder": "​",
            "_view_module": "@jupyter-widgets/controls",
            "_model_module_version": "1.5.0",
            "value": "4423680it [00:00, 20498908.14it/s]",
            "_view_count": null,
            "_view_module_version": "1.5.0",
            "description_tooltip": null,
            "_model_module": "@jupyter-widgets/controls",
            "layout": "IPY_MODEL_93865d56beec4927ab53aee6cbaa783e"
          }
        },
        "b5fff4301a714c6784dda2e7ab212357": {
          "model_module": "@jupyter-widgets/controls",
          "model_name": "ProgressStyleModel",
          "state": {
            "_view_name": "StyleView",
            "_model_name": "ProgressStyleModel",
            "description_width": "",
            "_view_module": "@jupyter-widgets/base",
            "_model_module_version": "1.5.0",
            "_view_count": null,
            "_view_module_version": "1.2.0",
            "bar_color": null,
            "_model_module": "@jupyter-widgets/controls"
          }
        },
        "e03e5a58b6214fdd9f00cacf8051a437": {
          "model_module": "@jupyter-widgets/base",
          "model_name": "LayoutModel",
          "state": {
            "_view_name": "LayoutView",
            "grid_template_rows": null,
            "right": null,
            "justify_content": null,
            "_view_module": "@jupyter-widgets/base",
            "overflow": null,
            "_model_module_version": "1.2.0",
            "_view_count": null,
            "flex_flow": null,
            "width": null,
            "min_width": null,
            "border": null,
            "align_items": null,
            "bottom": null,
            "_model_module": "@jupyter-widgets/base",
            "top": null,
            "grid_column": null,
            "overflow_y": null,
            "overflow_x": null,
            "grid_auto_flow": null,
            "grid_area": null,
            "grid_template_columns": null,
            "flex": null,
            "_model_name": "LayoutModel",
            "justify_items": null,
            "grid_row": null,
            "max_height": null,
            "align_content": null,
            "visibility": null,
            "align_self": null,
            "height": null,
            "min_height": null,
            "padding": null,
            "grid_auto_rows": null,
            "grid_gap": null,
            "max_width": null,
            "order": null,
            "_view_module_version": "1.2.0",
            "grid_template_areas": null,
            "object_position": null,
            "object_fit": null,
            "grid_auto_columns": null,
            "margin": null,
            "display": null,
            "left": null
          }
        },
        "9548beeb50c24d16994ed3a496749b05": {
          "model_module": "@jupyter-widgets/controls",
          "model_name": "DescriptionStyleModel",
          "state": {
            "_view_name": "StyleView",
            "_model_name": "DescriptionStyleModel",
            "description_width": "",
            "_view_module": "@jupyter-widgets/base",
            "_model_module_version": "1.5.0",
            "_view_count": null,
            "_view_module_version": "1.2.0",
            "_model_module": "@jupyter-widgets/controls"
          }
        },
        "93865d56beec4927ab53aee6cbaa783e": {
          "model_module": "@jupyter-widgets/base",
          "model_name": "LayoutModel",
          "state": {
            "_view_name": "LayoutView",
            "grid_template_rows": null,
            "right": null,
            "justify_content": null,
            "_view_module": "@jupyter-widgets/base",
            "overflow": null,
            "_model_module_version": "1.2.0",
            "_view_count": null,
            "flex_flow": null,
            "width": null,
            "min_width": null,
            "border": null,
            "align_items": null,
            "bottom": null,
            "_model_module": "@jupyter-widgets/base",
            "top": null,
            "grid_column": null,
            "overflow_y": null,
            "overflow_x": null,
            "grid_auto_flow": null,
            "grid_area": null,
            "grid_template_columns": null,
            "flex": null,
            "_model_name": "LayoutModel",
            "justify_items": null,
            "grid_row": null,
            "max_height": null,
            "align_content": null,
            "visibility": null,
            "align_self": null,
            "height": null,
            "min_height": null,
            "padding": null,
            "grid_auto_rows": null,
            "grid_gap": null,
            "max_width": null,
            "order": null,
            "_view_module_version": "1.2.0",
            "grid_template_areas": null,
            "object_position": null,
            "object_fit": null,
            "grid_auto_columns": null,
            "margin": null,
            "display": null,
            "left": null
          }
        },
        "94e6e8f4a4bc48e2bbc63ea2b8fbd916": {
          "model_module": "@jupyter-widgets/controls",
          "model_name": "HBoxModel",
          "state": {
            "_view_name": "HBoxView",
            "_dom_classes": [],
            "_model_name": "HBoxModel",
            "_view_module": "@jupyter-widgets/controls",
            "_model_module_version": "1.5.0",
            "_view_count": null,
            "_view_module_version": "1.5.0",
            "box_style": "",
            "layout": "IPY_MODEL_74e4ccc66bce4566b05045e30aed8a37",
            "_model_module": "@jupyter-widgets/controls",
            "children": [
              "IPY_MODEL_5f40ccc0811648ddbcbbe2b926f8fa16",
              "IPY_MODEL_5c5ba4df89674b4b8d32f7d1c4be2193"
            ]
          }
        },
        "74e4ccc66bce4566b05045e30aed8a37": {
          "model_module": "@jupyter-widgets/base",
          "model_name": "LayoutModel",
          "state": {
            "_view_name": "LayoutView",
            "grid_template_rows": null,
            "right": null,
            "justify_content": null,
            "_view_module": "@jupyter-widgets/base",
            "overflow": null,
            "_model_module_version": "1.2.0",
            "_view_count": null,
            "flex_flow": null,
            "width": null,
            "min_width": null,
            "border": null,
            "align_items": null,
            "bottom": null,
            "_model_module": "@jupyter-widgets/base",
            "top": null,
            "grid_column": null,
            "overflow_y": null,
            "overflow_x": null,
            "grid_auto_flow": null,
            "grid_area": null,
            "grid_template_columns": null,
            "flex": null,
            "_model_name": "LayoutModel",
            "justify_items": null,
            "grid_row": null,
            "max_height": null,
            "align_content": null,
            "visibility": null,
            "align_self": null,
            "height": null,
            "min_height": null,
            "padding": null,
            "grid_auto_rows": null,
            "grid_gap": null,
            "max_width": null,
            "order": null,
            "_view_module_version": "1.2.0",
            "grid_template_areas": null,
            "object_position": null,
            "object_fit": null,
            "grid_auto_columns": null,
            "margin": null,
            "display": null,
            "left": null
          }
        },
        "5f40ccc0811648ddbcbbe2b926f8fa16": {
          "model_module": "@jupyter-widgets/controls",
          "model_name": "IntProgressModel",
          "state": {
            "_view_name": "ProgressView",
            "style": "IPY_MODEL_a46a8d9e3d8242c1958001af5ee8257c",
            "_dom_classes": [],
            "description": "",
            "_model_name": "IntProgressModel",
            "bar_style": "success",
            "max": 1,
            "_view_module": "@jupyter-widgets/controls",
            "_model_module_version": "1.5.0",
            "value": 1,
            "_view_count": null,
            "_view_module_version": "1.5.0",
            "orientation": "horizontal",
            "min": 0,
            "description_tooltip": null,
            "_model_module": "@jupyter-widgets/controls",
            "layout": "IPY_MODEL_98e909498a8b4f98bd23ed2218ef65ee"
          }
        },
        "5c5ba4df89674b4b8d32f7d1c4be2193": {
          "model_module": "@jupyter-widgets/controls",
          "model_name": "HTMLModel",
          "state": {
            "_view_name": "HTMLView",
            "style": "IPY_MODEL_609afb6fa9314bad975ce2d359172bec",
            "_dom_classes": [],
            "description": "",
            "_model_name": "HTMLModel",
            "placeholder": "​",
            "_view_module": "@jupyter-widgets/controls",
            "_model_module_version": "1.5.0",
            "value": "8192it [00:00, 87892.75it/s]",
            "_view_count": null,
            "_view_module_version": "1.5.0",
            "description_tooltip": null,
            "_model_module": "@jupyter-widgets/controls",
            "layout": "IPY_MODEL_c2705487e5394593b4ccc19a2183d8dd"
          }
        },
        "a46a8d9e3d8242c1958001af5ee8257c": {
          "model_module": "@jupyter-widgets/controls",
          "model_name": "ProgressStyleModel",
          "state": {
            "_view_name": "StyleView",
            "_model_name": "ProgressStyleModel",
            "description_width": "",
            "_view_module": "@jupyter-widgets/base",
            "_model_module_version": "1.5.0",
            "_view_count": null,
            "_view_module_version": "1.2.0",
            "bar_color": null,
            "_model_module": "@jupyter-widgets/controls"
          }
        },
        "98e909498a8b4f98bd23ed2218ef65ee": {
          "model_module": "@jupyter-widgets/base",
          "model_name": "LayoutModel",
          "state": {
            "_view_name": "LayoutView",
            "grid_template_rows": null,
            "right": null,
            "justify_content": null,
            "_view_module": "@jupyter-widgets/base",
            "overflow": null,
            "_model_module_version": "1.2.0",
            "_view_count": null,
            "flex_flow": null,
            "width": null,
            "min_width": null,
            "border": null,
            "align_items": null,
            "bottom": null,
            "_model_module": "@jupyter-widgets/base",
            "top": null,
            "grid_column": null,
            "overflow_y": null,
            "overflow_x": null,
            "grid_auto_flow": null,
            "grid_area": null,
            "grid_template_columns": null,
            "flex": null,
            "_model_name": "LayoutModel",
            "justify_items": null,
            "grid_row": null,
            "max_height": null,
            "align_content": null,
            "visibility": null,
            "align_self": null,
            "height": null,
            "min_height": null,
            "padding": null,
            "grid_auto_rows": null,
            "grid_gap": null,
            "max_width": null,
            "order": null,
            "_view_module_version": "1.2.0",
            "grid_template_areas": null,
            "object_position": null,
            "object_fit": null,
            "grid_auto_columns": null,
            "margin": null,
            "display": null,
            "left": null
          }
        },
        "609afb6fa9314bad975ce2d359172bec": {
          "model_module": "@jupyter-widgets/controls",
          "model_name": "DescriptionStyleModel",
          "state": {
            "_view_name": "StyleView",
            "_model_name": "DescriptionStyleModel",
            "description_width": "",
            "_view_module": "@jupyter-widgets/base",
            "_model_module_version": "1.5.0",
            "_view_count": null,
            "_view_module_version": "1.2.0",
            "_model_module": "@jupyter-widgets/controls"
          }
        },
        "c2705487e5394593b4ccc19a2183d8dd": {
          "model_module": "@jupyter-widgets/base",
          "model_name": "LayoutModel",
          "state": {
            "_view_name": "LayoutView",
            "grid_template_rows": null,
            "right": null,
            "justify_content": null,
            "_view_module": "@jupyter-widgets/base",
            "overflow": null,
            "_model_module_version": "1.2.0",
            "_view_count": null,
            "flex_flow": null,
            "width": null,
            "min_width": null,
            "border": null,
            "align_items": null,
            "bottom": null,
            "_model_module": "@jupyter-widgets/base",
            "top": null,
            "grid_column": null,
            "overflow_y": null,
            "overflow_x": null,
            "grid_auto_flow": null,
            "grid_area": null,
            "grid_template_columns": null,
            "flex": null,
            "_model_name": "LayoutModel",
            "justify_items": null,
            "grid_row": null,
            "max_height": null,
            "align_content": null,
            "visibility": null,
            "align_self": null,
            "height": null,
            "min_height": null,
            "padding": null,
            "grid_auto_rows": null,
            "grid_gap": null,
            "max_width": null,
            "order": null,
            "_view_module_version": "1.2.0",
            "grid_template_areas": null,
            "object_position": null,
            "object_fit": null,
            "grid_auto_columns": null,
            "margin": null,
            "display": null,
            "left": null
          }
        },
        "14d33ac8f962497eac73f6f21f1d1bde": {
          "model_module": "@jupyter-widgets/controls",
          "model_name": "HBoxModel",
          "state": {
            "_view_name": "HBoxView",
            "_dom_classes": [],
            "_model_name": "HBoxModel",
            "_view_module": "@jupyter-widgets/controls",
            "_model_module_version": "1.5.0",
            "_view_count": null,
            "_view_module_version": "1.5.0",
            "box_style": "",
            "layout": "IPY_MODEL_d3fb6c200bbf42cfb66914a6a15d6dd6",
            "_model_module": "@jupyter-widgets/controls",
            "children": [
              "IPY_MODEL_2bfad588550a45b489a55fa10dd5fa16",
              "IPY_MODEL_ebf2ee81344c483a8c71c306abb0425b"
            ]
          }
        },
        "d3fb6c200bbf42cfb66914a6a15d6dd6": {
          "model_module": "@jupyter-widgets/base",
          "model_name": "LayoutModel",
          "state": {
            "_view_name": "LayoutView",
            "grid_template_rows": null,
            "right": null,
            "justify_content": null,
            "_view_module": "@jupyter-widgets/base",
            "overflow": null,
            "_model_module_version": "1.2.0",
            "_view_count": null,
            "flex_flow": null,
            "width": null,
            "min_width": null,
            "border": null,
            "align_items": null,
            "bottom": null,
            "_model_module": "@jupyter-widgets/base",
            "top": null,
            "grid_column": null,
            "overflow_y": null,
            "overflow_x": null,
            "grid_auto_flow": null,
            "grid_area": null,
            "grid_template_columns": null,
            "flex": null,
            "_model_name": "LayoutModel",
            "justify_items": null,
            "grid_row": null,
            "max_height": null,
            "align_content": null,
            "visibility": null,
            "align_self": null,
            "height": null,
            "min_height": null,
            "padding": null,
            "grid_auto_rows": null,
            "grid_gap": null,
            "max_width": null,
            "order": null,
            "_view_module_version": "1.2.0",
            "grid_template_areas": null,
            "object_position": null,
            "object_fit": null,
            "grid_auto_columns": null,
            "margin": null,
            "display": null,
            "left": null
          }
        },
        "2bfad588550a45b489a55fa10dd5fa16": {
          "model_module": "@jupyter-widgets/controls",
          "model_name": "IntProgressModel",
          "state": {
            "_view_name": "ProgressView",
            "style": "IPY_MODEL_4c000e427bcf4386af2dec87d0f2afbe",
            "_dom_classes": [],
            "description": "",
            "_model_name": "IntProgressModel",
            "bar_style": "success",
            "max": 1,
            "_view_module": "@jupyter-widgets/controls",
            "_model_module_version": "1.5.0",
            "value": 1,
            "_view_count": null,
            "_view_module_version": "1.5.0",
            "orientation": "horizontal",
            "min": 0,
            "description_tooltip": null,
            "_model_module": "@jupyter-widgets/controls",
            "layout": "IPY_MODEL_8a7f6656f91b4095b0b808306dbb1f22"
          }
        },
        "ebf2ee81344c483a8c71c306abb0425b": {
          "model_module": "@jupyter-widgets/controls",
          "model_name": "HTMLModel",
          "state": {
            "_view_name": "HTMLView",
            "style": "IPY_MODEL_ab1e9d42aaf7427e863be7cd980aef1d",
            "_dom_classes": [],
            "description": "",
            "_model_name": "HTMLModel",
            "placeholder": "​",
            "_view_module": "@jupyter-widgets/controls",
            "_model_module_version": "1.5.0",
            "value": "9920512it [00:01, 7881296.39it/s]",
            "_view_count": null,
            "_view_module_version": "1.5.0",
            "description_tooltip": null,
            "_model_module": "@jupyter-widgets/controls",
            "layout": "IPY_MODEL_c243ec34e67f4cbcb951fa7834cb1805"
          }
        },
        "4c000e427bcf4386af2dec87d0f2afbe": {
          "model_module": "@jupyter-widgets/controls",
          "model_name": "ProgressStyleModel",
          "state": {
            "_view_name": "StyleView",
            "_model_name": "ProgressStyleModel",
            "description_width": "",
            "_view_module": "@jupyter-widgets/base",
            "_model_module_version": "1.5.0",
            "_view_count": null,
            "_view_module_version": "1.2.0",
            "bar_color": null,
            "_model_module": "@jupyter-widgets/controls"
          }
        },
        "8a7f6656f91b4095b0b808306dbb1f22": {
          "model_module": "@jupyter-widgets/base",
          "model_name": "LayoutModel",
          "state": {
            "_view_name": "LayoutView",
            "grid_template_rows": null,
            "right": null,
            "justify_content": null,
            "_view_module": "@jupyter-widgets/base",
            "overflow": null,
            "_model_module_version": "1.2.0",
            "_view_count": null,
            "flex_flow": null,
            "width": null,
            "min_width": null,
            "border": null,
            "align_items": null,
            "bottom": null,
            "_model_module": "@jupyter-widgets/base",
            "top": null,
            "grid_column": null,
            "overflow_y": null,
            "overflow_x": null,
            "grid_auto_flow": null,
            "grid_area": null,
            "grid_template_columns": null,
            "flex": null,
            "_model_name": "LayoutModel",
            "justify_items": null,
            "grid_row": null,
            "max_height": null,
            "align_content": null,
            "visibility": null,
            "align_self": null,
            "height": null,
            "min_height": null,
            "padding": null,
            "grid_auto_rows": null,
            "grid_gap": null,
            "max_width": null,
            "order": null,
            "_view_module_version": "1.2.0",
            "grid_template_areas": null,
            "object_position": null,
            "object_fit": null,
            "grid_auto_columns": null,
            "margin": null,
            "display": null,
            "left": null
          }
        },
        "ab1e9d42aaf7427e863be7cd980aef1d": {
          "model_module": "@jupyter-widgets/controls",
          "model_name": "DescriptionStyleModel",
          "state": {
            "_view_name": "StyleView",
            "_model_name": "DescriptionStyleModel",
            "description_width": "",
            "_view_module": "@jupyter-widgets/base",
            "_model_module_version": "1.5.0",
            "_view_count": null,
            "_view_module_version": "1.2.0",
            "_model_module": "@jupyter-widgets/controls"
          }
        },
        "c243ec34e67f4cbcb951fa7834cb1805": {
          "model_module": "@jupyter-widgets/base",
          "model_name": "LayoutModel",
          "state": {
            "_view_name": "LayoutView",
            "grid_template_rows": null,
            "right": null,
            "justify_content": null,
            "_view_module": "@jupyter-widgets/base",
            "overflow": null,
            "_model_module_version": "1.2.0",
            "_view_count": null,
            "flex_flow": null,
            "width": null,
            "min_width": null,
            "border": null,
            "align_items": null,
            "bottom": null,
            "_model_module": "@jupyter-widgets/base",
            "top": null,
            "grid_column": null,
            "overflow_y": null,
            "overflow_x": null,
            "grid_auto_flow": null,
            "grid_area": null,
            "grid_template_columns": null,
            "flex": null,
            "_model_name": "LayoutModel",
            "justify_items": null,
            "grid_row": null,
            "max_height": null,
            "align_content": null,
            "visibility": null,
            "align_self": null,
            "height": null,
            "min_height": null,
            "padding": null,
            "grid_auto_rows": null,
            "grid_gap": null,
            "max_width": null,
            "order": null,
            "_view_module_version": "1.2.0",
            "grid_template_areas": null,
            "object_position": null,
            "object_fit": null,
            "grid_auto_columns": null,
            "margin": null,
            "display": null,
            "left": null
          }
        },
        "fdf5012264454a4bafdfa231728fd620": {
          "model_module": "@jupyter-widgets/controls",
          "model_name": "HBoxModel",
          "state": {
            "_view_name": "HBoxView",
            "_dom_classes": [],
            "_model_name": "HBoxModel",
            "_view_module": "@jupyter-widgets/controls",
            "_model_module_version": "1.5.0",
            "_view_count": null,
            "_view_module_version": "1.5.0",
            "box_style": "",
            "layout": "IPY_MODEL_100362a4423f4b3b858b3d995c79688d",
            "_model_module": "@jupyter-widgets/controls",
            "children": [
              "IPY_MODEL_6525df4100fa452b90947ebe02b50984",
              "IPY_MODEL_6c0ee9f65ce645df9ffb4822ee0f7af8"
            ]
          }
        },
        "100362a4423f4b3b858b3d995c79688d": {
          "model_module": "@jupyter-widgets/base",
          "model_name": "LayoutModel",
          "state": {
            "_view_name": "LayoutView",
            "grid_template_rows": null,
            "right": null,
            "justify_content": null,
            "_view_module": "@jupyter-widgets/base",
            "overflow": null,
            "_model_module_version": "1.2.0",
            "_view_count": null,
            "flex_flow": null,
            "width": null,
            "min_width": null,
            "border": null,
            "align_items": null,
            "bottom": null,
            "_model_module": "@jupyter-widgets/base",
            "top": null,
            "grid_column": null,
            "overflow_y": null,
            "overflow_x": null,
            "grid_auto_flow": null,
            "grid_area": null,
            "grid_template_columns": null,
            "flex": null,
            "_model_name": "LayoutModel",
            "justify_items": null,
            "grid_row": null,
            "max_height": null,
            "align_content": null,
            "visibility": null,
            "align_self": null,
            "height": null,
            "min_height": null,
            "padding": null,
            "grid_auto_rows": null,
            "grid_gap": null,
            "max_width": null,
            "order": null,
            "_view_module_version": "1.2.0",
            "grid_template_areas": null,
            "object_position": null,
            "object_fit": null,
            "grid_auto_columns": null,
            "margin": null,
            "display": null,
            "left": null
          }
        },
        "6525df4100fa452b90947ebe02b50984": {
          "model_module": "@jupyter-widgets/controls",
          "model_name": "IntProgressModel",
          "state": {
            "_view_name": "ProgressView",
            "style": "IPY_MODEL_d39d986130fe42f5a329e0e5a4aa9c38",
            "_dom_classes": [],
            "description": "",
            "_model_name": "IntProgressModel",
            "bar_style": "success",
            "max": 1,
            "_view_module": "@jupyter-widgets/controls",
            "_model_module_version": "1.5.0",
            "value": 1,
            "_view_count": null,
            "_view_module_version": "1.5.0",
            "orientation": "horizontal",
            "min": 0,
            "description_tooltip": null,
            "_model_module": "@jupyter-widgets/controls",
            "layout": "IPY_MODEL_f35e7ae7fdef44af88c91caeb81a43d2"
          }
        },
        "6c0ee9f65ce645df9ffb4822ee0f7af8": {
          "model_module": "@jupyter-widgets/controls",
          "model_name": "HTMLModel",
          "state": {
            "_view_name": "HTMLView",
            "style": "IPY_MODEL_e295ed07970b4940be8ea1e3bba74ec6",
            "_dom_classes": [],
            "description": "",
            "_model_name": "HTMLModel",
            "placeholder": "​",
            "_view_module": "@jupyter-widgets/controls",
            "_model_module_version": "1.5.0",
            "value": "32768it [00:00, 114258.24it/s]",
            "_view_count": null,
            "_view_module_version": "1.5.0",
            "description_tooltip": null,
            "_model_module": "@jupyter-widgets/controls",
            "layout": "IPY_MODEL_b48e567fff344c6fb6dcdf83d79ccb93"
          }
        },
        "d39d986130fe42f5a329e0e5a4aa9c38": {
          "model_module": "@jupyter-widgets/controls",
          "model_name": "ProgressStyleModel",
          "state": {
            "_view_name": "StyleView",
            "_model_name": "ProgressStyleModel",
            "description_width": "",
            "_view_module": "@jupyter-widgets/base",
            "_model_module_version": "1.5.0",
            "_view_count": null,
            "_view_module_version": "1.2.0",
            "bar_color": null,
            "_model_module": "@jupyter-widgets/controls"
          }
        },
        "f35e7ae7fdef44af88c91caeb81a43d2": {
          "model_module": "@jupyter-widgets/base",
          "model_name": "LayoutModel",
          "state": {
            "_view_name": "LayoutView",
            "grid_template_rows": null,
            "right": null,
            "justify_content": null,
            "_view_module": "@jupyter-widgets/base",
            "overflow": null,
            "_model_module_version": "1.2.0",
            "_view_count": null,
            "flex_flow": null,
            "width": null,
            "min_width": null,
            "border": null,
            "align_items": null,
            "bottom": null,
            "_model_module": "@jupyter-widgets/base",
            "top": null,
            "grid_column": null,
            "overflow_y": null,
            "overflow_x": null,
            "grid_auto_flow": null,
            "grid_area": null,
            "grid_template_columns": null,
            "flex": null,
            "_model_name": "LayoutModel",
            "justify_items": null,
            "grid_row": null,
            "max_height": null,
            "align_content": null,
            "visibility": null,
            "align_self": null,
            "height": null,
            "min_height": null,
            "padding": null,
            "grid_auto_rows": null,
            "grid_gap": null,
            "max_width": null,
            "order": null,
            "_view_module_version": "1.2.0",
            "grid_template_areas": null,
            "object_position": null,
            "object_fit": null,
            "grid_auto_columns": null,
            "margin": null,
            "display": null,
            "left": null
          }
        },
        "e295ed07970b4940be8ea1e3bba74ec6": {
          "model_module": "@jupyter-widgets/controls",
          "model_name": "DescriptionStyleModel",
          "state": {
            "_view_name": "StyleView",
            "_model_name": "DescriptionStyleModel",
            "description_width": "",
            "_view_module": "@jupyter-widgets/base",
            "_model_module_version": "1.5.0",
            "_view_count": null,
            "_view_module_version": "1.2.0",
            "_model_module": "@jupyter-widgets/controls"
          }
        },
        "b48e567fff344c6fb6dcdf83d79ccb93": {
          "model_module": "@jupyter-widgets/base",
          "model_name": "LayoutModel",
          "state": {
            "_view_name": "LayoutView",
            "grid_template_rows": null,
            "right": null,
            "justify_content": null,
            "_view_module": "@jupyter-widgets/base",
            "overflow": null,
            "_model_module_version": "1.2.0",
            "_view_count": null,
            "flex_flow": null,
            "width": null,
            "min_width": null,
            "border": null,
            "align_items": null,
            "bottom": null,
            "_model_module": "@jupyter-widgets/base",
            "top": null,
            "grid_column": null,
            "overflow_y": null,
            "overflow_x": null,
            "grid_auto_flow": null,
            "grid_area": null,
            "grid_template_columns": null,
            "flex": null,
            "_model_name": "LayoutModel",
            "justify_items": null,
            "grid_row": null,
            "max_height": null,
            "align_content": null,
            "visibility": null,
            "align_self": null,
            "height": null,
            "min_height": null,
            "padding": null,
            "grid_auto_rows": null,
            "grid_gap": null,
            "max_width": null,
            "order": null,
            "_view_module_version": "1.2.0",
            "grid_template_areas": null,
            "object_position": null,
            "object_fit": null,
            "grid_auto_columns": null,
            "margin": null,
            "display": null,
            "left": null
          }
        },
        "9c76bd04e031416db3ef38b3f8c0f890": {
          "model_module": "@jupyter-widgets/controls",
          "model_name": "HBoxModel",
          "state": {
            "_view_name": "HBoxView",
            "_dom_classes": [],
            "_model_name": "HBoxModel",
            "_view_module": "@jupyter-widgets/controls",
            "_model_module_version": "1.5.0",
            "_view_count": null,
            "_view_module_version": "1.5.0",
            "box_style": "",
            "layout": "IPY_MODEL_d9ff4f54113040be9510983043d2ed59",
            "_model_module": "@jupyter-widgets/controls",
            "children": [
              "IPY_MODEL_b1b10a7cb6b34720b5588b04cc1170dd",
              "IPY_MODEL_433c5626dff240d59964bc6c75317a4b"
            ]
          }
        },
        "d9ff4f54113040be9510983043d2ed59": {
          "model_module": "@jupyter-widgets/base",
          "model_name": "LayoutModel",
          "state": {
            "_view_name": "LayoutView",
            "grid_template_rows": null,
            "right": null,
            "justify_content": null,
            "_view_module": "@jupyter-widgets/base",
            "overflow": null,
            "_model_module_version": "1.2.0",
            "_view_count": null,
            "flex_flow": null,
            "width": null,
            "min_width": null,
            "border": null,
            "align_items": null,
            "bottom": null,
            "_model_module": "@jupyter-widgets/base",
            "top": null,
            "grid_column": null,
            "overflow_y": null,
            "overflow_x": null,
            "grid_auto_flow": null,
            "grid_area": null,
            "grid_template_columns": null,
            "flex": null,
            "_model_name": "LayoutModel",
            "justify_items": null,
            "grid_row": null,
            "max_height": null,
            "align_content": null,
            "visibility": null,
            "align_self": null,
            "height": null,
            "min_height": null,
            "padding": null,
            "grid_auto_rows": null,
            "grid_gap": null,
            "max_width": null,
            "order": null,
            "_view_module_version": "1.2.0",
            "grid_template_areas": null,
            "object_position": null,
            "object_fit": null,
            "grid_auto_columns": null,
            "margin": null,
            "display": null,
            "left": null
          }
        },
        "b1b10a7cb6b34720b5588b04cc1170dd": {
          "model_module": "@jupyter-widgets/controls",
          "model_name": "IntProgressModel",
          "state": {
            "_view_name": "ProgressView",
            "style": "IPY_MODEL_f8196ffd309a4ab3abcfc4b577af7056",
            "_dom_classes": [],
            "description": "",
            "_model_name": "IntProgressModel",
            "bar_style": "success",
            "max": 1,
            "_view_module": "@jupyter-widgets/controls",
            "_model_module_version": "1.5.0",
            "value": 1,
            "_view_count": null,
            "_view_module_version": "1.5.0",
            "orientation": "horizontal",
            "min": 0,
            "description_tooltip": null,
            "_model_module": "@jupyter-widgets/controls",
            "layout": "IPY_MODEL_019d24b647a5402a8a6fac8c73cc5eca"
          }
        },
        "433c5626dff240d59964bc6c75317a4b": {
          "model_module": "@jupyter-widgets/controls",
          "model_name": "HTMLModel",
          "state": {
            "_view_name": "HTMLView",
            "style": "IPY_MODEL_b8ec110766c74a4888483450cb3edd7e",
            "_dom_classes": [],
            "description": "",
            "_model_name": "HTMLModel",
            "placeholder": "​",
            "_view_module": "@jupyter-widgets/controls",
            "_model_module_version": "1.5.0",
            "value": "1654784it [00:00, 2038503.20it/s]",
            "_view_count": null,
            "_view_module_version": "1.5.0",
            "description_tooltip": null,
            "_model_module": "@jupyter-widgets/controls",
            "layout": "IPY_MODEL_075cef1849704729a4e513bd91b506f0"
          }
        },
        "f8196ffd309a4ab3abcfc4b577af7056": {
          "model_module": "@jupyter-widgets/controls",
          "model_name": "ProgressStyleModel",
          "state": {
            "_view_name": "StyleView",
            "_model_name": "ProgressStyleModel",
            "description_width": "",
            "_view_module": "@jupyter-widgets/base",
            "_model_module_version": "1.5.0",
            "_view_count": null,
            "_view_module_version": "1.2.0",
            "bar_color": null,
            "_model_module": "@jupyter-widgets/controls"
          }
        },
        "019d24b647a5402a8a6fac8c73cc5eca": {
          "model_module": "@jupyter-widgets/base",
          "model_name": "LayoutModel",
          "state": {
            "_view_name": "LayoutView",
            "grid_template_rows": null,
            "right": null,
            "justify_content": null,
            "_view_module": "@jupyter-widgets/base",
            "overflow": null,
            "_model_module_version": "1.2.0",
            "_view_count": null,
            "flex_flow": null,
            "width": null,
            "min_width": null,
            "border": null,
            "align_items": null,
            "bottom": null,
            "_model_module": "@jupyter-widgets/base",
            "top": null,
            "grid_column": null,
            "overflow_y": null,
            "overflow_x": null,
            "grid_auto_flow": null,
            "grid_area": null,
            "grid_template_columns": null,
            "flex": null,
            "_model_name": "LayoutModel",
            "justify_items": null,
            "grid_row": null,
            "max_height": null,
            "align_content": null,
            "visibility": null,
            "align_self": null,
            "height": null,
            "min_height": null,
            "padding": null,
            "grid_auto_rows": null,
            "grid_gap": null,
            "max_width": null,
            "order": null,
            "_view_module_version": "1.2.0",
            "grid_template_areas": null,
            "object_position": null,
            "object_fit": null,
            "grid_auto_columns": null,
            "margin": null,
            "display": null,
            "left": null
          }
        },
        "b8ec110766c74a4888483450cb3edd7e": {
          "model_module": "@jupyter-widgets/controls",
          "model_name": "DescriptionStyleModel",
          "state": {
            "_view_name": "StyleView",
            "_model_name": "DescriptionStyleModel",
            "description_width": "",
            "_view_module": "@jupyter-widgets/base",
            "_model_module_version": "1.5.0",
            "_view_count": null,
            "_view_module_version": "1.2.0",
            "_model_module": "@jupyter-widgets/controls"
          }
        },
        "075cef1849704729a4e513bd91b506f0": {
          "model_module": "@jupyter-widgets/base",
          "model_name": "LayoutModel",
          "state": {
            "_view_name": "LayoutView",
            "grid_template_rows": null,
            "right": null,
            "justify_content": null,
            "_view_module": "@jupyter-widgets/base",
            "overflow": null,
            "_model_module_version": "1.2.0",
            "_view_count": null,
            "flex_flow": null,
            "width": null,
            "min_width": null,
            "border": null,
            "align_items": null,
            "bottom": null,
            "_model_module": "@jupyter-widgets/base",
            "top": null,
            "grid_column": null,
            "overflow_y": null,
            "overflow_x": null,
            "grid_auto_flow": null,
            "grid_area": null,
            "grid_template_columns": null,
            "flex": null,
            "_model_name": "LayoutModel",
            "justify_items": null,
            "grid_row": null,
            "max_height": null,
            "align_content": null,
            "visibility": null,
            "align_self": null,
            "height": null,
            "min_height": null,
            "padding": null,
            "grid_auto_rows": null,
            "grid_gap": null,
            "max_width": null,
            "order": null,
            "_view_module_version": "1.2.0",
            "grid_template_areas": null,
            "object_position": null,
            "object_fit": null,
            "grid_auto_columns": null,
            "margin": null,
            "display": null,
            "left": null
          }
        },
        "ede1277570fe4fa7a0d204a431cf027e": {
          "model_module": "@jupyter-widgets/controls",
          "model_name": "HBoxModel",
          "state": {
            "_view_name": "HBoxView",
            "_dom_classes": [],
            "_model_name": "HBoxModel",
            "_view_module": "@jupyter-widgets/controls",
            "_model_module_version": "1.5.0",
            "_view_count": null,
            "_view_module_version": "1.5.0",
            "box_style": "",
            "layout": "IPY_MODEL_b744a68eeafb4edc94b33f554f3d2ee5",
            "_model_module": "@jupyter-widgets/controls",
            "children": [
              "IPY_MODEL_539585322c6a4de789c848560a517143",
              "IPY_MODEL_2935352fab72410aba46c9bd1f9873a5"
            ]
          }
        },
        "b744a68eeafb4edc94b33f554f3d2ee5": {
          "model_module": "@jupyter-widgets/base",
          "model_name": "LayoutModel",
          "state": {
            "_view_name": "LayoutView",
            "grid_template_rows": null,
            "right": null,
            "justify_content": null,
            "_view_module": "@jupyter-widgets/base",
            "overflow": null,
            "_model_module_version": "1.2.0",
            "_view_count": null,
            "flex_flow": null,
            "width": null,
            "min_width": null,
            "border": null,
            "align_items": null,
            "bottom": null,
            "_model_module": "@jupyter-widgets/base",
            "top": null,
            "grid_column": null,
            "overflow_y": null,
            "overflow_x": null,
            "grid_auto_flow": null,
            "grid_area": null,
            "grid_template_columns": null,
            "flex": null,
            "_model_name": "LayoutModel",
            "justify_items": null,
            "grid_row": null,
            "max_height": null,
            "align_content": null,
            "visibility": null,
            "align_self": null,
            "height": null,
            "min_height": null,
            "padding": null,
            "grid_auto_rows": null,
            "grid_gap": null,
            "max_width": null,
            "order": null,
            "_view_module_version": "1.2.0",
            "grid_template_areas": null,
            "object_position": null,
            "object_fit": null,
            "grid_auto_columns": null,
            "margin": null,
            "display": null,
            "left": null
          }
        },
        "539585322c6a4de789c848560a517143": {
          "model_module": "@jupyter-widgets/controls",
          "model_name": "IntProgressModel",
          "state": {
            "_view_name": "ProgressView",
            "style": "IPY_MODEL_c4b45e37d11f4493ba523329d38ab50d",
            "_dom_classes": [],
            "description": "",
            "_model_name": "IntProgressModel",
            "bar_style": "success",
            "max": 1,
            "_view_module": "@jupyter-widgets/controls",
            "_model_module_version": "1.5.0",
            "value": 1,
            "_view_count": null,
            "_view_module_version": "1.5.0",
            "orientation": "horizontal",
            "min": 0,
            "description_tooltip": null,
            "_model_module": "@jupyter-widgets/controls",
            "layout": "IPY_MODEL_2abd1dba98634f4caafc95e723fc3505"
          }
        },
        "2935352fab72410aba46c9bd1f9873a5": {
          "model_module": "@jupyter-widgets/controls",
          "model_name": "HTMLModel",
          "state": {
            "_view_name": "HTMLView",
            "style": "IPY_MODEL_f134f1a279b44575aa1962b2c6fb4d61",
            "_dom_classes": [],
            "description": "",
            "_model_name": "HTMLModel",
            "placeholder": "​",
            "_view_module": "@jupyter-widgets/controls",
            "_model_module_version": "1.5.0",
            "value": "8192it [00:00, 42002.16it/s]",
            "_view_count": null,
            "_view_module_version": "1.5.0",
            "description_tooltip": null,
            "_model_module": "@jupyter-widgets/controls",
            "layout": "IPY_MODEL_9bf2e506894046959cdfd4e9673015a6"
          }
        },
        "c4b45e37d11f4493ba523329d38ab50d": {
          "model_module": "@jupyter-widgets/controls",
          "model_name": "ProgressStyleModel",
          "state": {
            "_view_name": "StyleView",
            "_model_name": "ProgressStyleModel",
            "description_width": "",
            "_view_module": "@jupyter-widgets/base",
            "_model_module_version": "1.5.0",
            "_view_count": null,
            "_view_module_version": "1.2.0",
            "bar_color": null,
            "_model_module": "@jupyter-widgets/controls"
          }
        },
        "2abd1dba98634f4caafc95e723fc3505": {
          "model_module": "@jupyter-widgets/base",
          "model_name": "LayoutModel",
          "state": {
            "_view_name": "LayoutView",
            "grid_template_rows": null,
            "right": null,
            "justify_content": null,
            "_view_module": "@jupyter-widgets/base",
            "overflow": null,
            "_model_module_version": "1.2.0",
            "_view_count": null,
            "flex_flow": null,
            "width": null,
            "min_width": null,
            "border": null,
            "align_items": null,
            "bottom": null,
            "_model_module": "@jupyter-widgets/base",
            "top": null,
            "grid_column": null,
            "overflow_y": null,
            "overflow_x": null,
            "grid_auto_flow": null,
            "grid_area": null,
            "grid_template_columns": null,
            "flex": null,
            "_model_name": "LayoutModel",
            "justify_items": null,
            "grid_row": null,
            "max_height": null,
            "align_content": null,
            "visibility": null,
            "align_self": null,
            "height": null,
            "min_height": null,
            "padding": null,
            "grid_auto_rows": null,
            "grid_gap": null,
            "max_width": null,
            "order": null,
            "_view_module_version": "1.2.0",
            "grid_template_areas": null,
            "object_position": null,
            "object_fit": null,
            "grid_auto_columns": null,
            "margin": null,
            "display": null,
            "left": null
          }
        },
        "f134f1a279b44575aa1962b2c6fb4d61": {
          "model_module": "@jupyter-widgets/controls",
          "model_name": "DescriptionStyleModel",
          "state": {
            "_view_name": "StyleView",
            "_model_name": "DescriptionStyleModel",
            "description_width": "",
            "_view_module": "@jupyter-widgets/base",
            "_model_module_version": "1.5.0",
            "_view_count": null,
            "_view_module_version": "1.2.0",
            "_model_module": "@jupyter-widgets/controls"
          }
        },
        "9bf2e506894046959cdfd4e9673015a6": {
          "model_module": "@jupyter-widgets/base",
          "model_name": "LayoutModel",
          "state": {
            "_view_name": "LayoutView",
            "grid_template_rows": null,
            "right": null,
            "justify_content": null,
            "_view_module": "@jupyter-widgets/base",
            "overflow": null,
            "_model_module_version": "1.2.0",
            "_view_count": null,
            "flex_flow": null,
            "width": null,
            "min_width": null,
            "border": null,
            "align_items": null,
            "bottom": null,
            "_model_module": "@jupyter-widgets/base",
            "top": null,
            "grid_column": null,
            "overflow_y": null,
            "overflow_x": null,
            "grid_auto_flow": null,
            "grid_area": null,
            "grid_template_columns": null,
            "flex": null,
            "_model_name": "LayoutModel",
            "justify_items": null,
            "grid_row": null,
            "max_height": null,
            "align_content": null,
            "visibility": null,
            "align_self": null,
            "height": null,
            "min_height": null,
            "padding": null,
            "grid_auto_rows": null,
            "grid_gap": null,
            "max_width": null,
            "order": null,
            "_view_module_version": "1.2.0",
            "grid_template_areas": null,
            "object_position": null,
            "object_fit": null,
            "grid_auto_columns": null,
            "margin": null,
            "display": null,
            "left": null
          }
        }
      }
    }
  },
  "cells": [
    {
      "cell_type": "markdown",
      "metadata": {
        "id": "view-in-github",
        "colab_type": "text"
      },
      "source": [
        "<a href=\"https://colab.research.google.com/github/qhfks27/PyTorch/blob/master/3min_pytorch_0205.ipynb\" target=\"_parent\"><img src=\"https://colab.research.google.com/assets/colab-badge.svg\" alt=\"Open In Colab\"/></a>"
      ]
    },
    {
      "cell_type": "markdown",
      "metadata": {
        "id": "K_ATIK-QQ73W",
        "colab_type": "text"
      },
      "source": [
        " # <b>Ch.01 딥러닝과 파이토치</b>\n",
        "\n",
        "####딥러닝 프레임워크인 파이토치가 무엇인지, 왜 필요한지, 텐서플로와 케라스 같은 라이브러리와 무엇이 다른지에 대해 알아보자.   \n",
        "\n",
        " - 인공지능과 머신러닝\n",
        " - 지도학습, 비지도학습, 강화학습\n",
        " - 딥러닝과 신경망\n",
        " - 파이토치가 개발되기까지\n",
        " - 왜 파이토치인가?   \n",
        "\n",
        "---\n",
        "   \n",
        " > ## 인공지능과 머신러닝   \n",
        "\n",
        " - 인공지능 : 인간의 사고를 인공적으로 모방한 모든 것   \n",
        " - 머신러닝 : 주어진 데이터를 가지고 통계학적인 모델을 학습시켜 인공지능을 구현하는 방법, 딥러닝은 머신러닝의 수많은 학습법 중 하나.    \n",
        "![KakaoTalk_20200203_152912434](https://user-images.githubusercontent.com/52433160/73634419-8220f400-46a4-11ea-85fd-f618d677eeb4.jpg)   \n",
        " 초기의 인공지능 개발 방법은 입력부터 출력까지 모든 단계를 컴퓨터에 일일이 알려주었다.   \n",
        "머신러닝은 반대로 정답(출력)을 알려주고, 프로그램이 정답까지 찾아가는 단계를 학습한다.   \n",
        "####학습을 위한 '데이터'와 두뇌에 해당하는 '모델'을 잘 설계하는 것이 머신러닝의 핵심이라고 할 수 있다..   "
      ]
    },
    {
      "cell_type": "markdown",
      "metadata": {
        "id": "yNL-wLc9Q9I1",
        "colab_type": "text"
      },
      "source": [
        "  > ## 지도학습, 비지도학습, 강화학습   \n",
        "\n",
        "####학습은 모델에 어떠한 데이터를 입력했을 때 원하는 결과가 출력되도록 모델 내부의 변수들을 조금씩 조율하는 과정으로 데이터 특징, 학습 방법에 따라 머신러닝을 구분한다. \n",
        "![KakaoTalk_20200203_152912668](https://user-images.githubusercontent.com/52433160/73634417-8220f400-46a4-11ea-8568-37963678c65e.jpg)  \n",
        "- 지도학습 : 사람이 모델을 가르치는 머신러닝 방법. 입력과 그에 대한 레이블(정답)을 반복해서 모델에 보여줌으로써 입력(x)과 출력(y)의 연관성을 찾게하는 것이다. 정답이 있는 데이터로 학습을 한 후, 새로운 데이터를 보고 결과를 예측하는 데 쓰임. 이미지/음성 인식과 기계번역 등에 사용.\n",
        "\n",
        "- 비지도 학습 : 지도학습과 달리 정답이 없는 데이터로 학습. 정답이 없는 데이터로 부터 군집 분석(cluster analysis), 데이터 표현(data representation), 차원 감소(dimensionality reduction) 등을 배울 수 있고, 지도학습을 보조하는 용도로 사용. \n",
        "\n",
        "- 강화학습 : 주어진 환경에서 상호작용하며 높은 점수를 받는 방법을 배우는 방식. 즉, 기계 학습 중 컴퓨터가 주어진 상태(state)에 대해 최적의 행동(action)을 선택하는 학습 방법. 풀고자 하는 문제에서의 보상 방식을 잘 설계하는 것이 핵심.\n",
        "   \n",
        "이외에도 레이블이 부족한 데이터를 학습하는 준지도학습, 학습법 자체를 연구하는 메타학습, 반복 없이 데이터를 한 번 혹은 몇 번만 보고 학습하는 원샷학습, 한 문제를 위해 학습한 후 다른 문제에도 바로 적용하는 전이학습 등 다양한 방법이 있다."
      ]
    },
    {
      "cell_type": "markdown",
      "metadata": {
        "id": "sZDODOSfRA71",
        "colab_type": "text"
      },
      "source": [
        "> ## 딥러닝과 신경망\n",
        " \n",
        "#### 목적에 따라 여러 가지 머신러닝 알고리즘이 개발되었다.   \n",
        "\n",
        "#### 머신러닝 알고리즘 중 인공 신경망이 있는데, 인공 신경망의 층을 여러겹 쌓아 학습한다면 심층 인공 신경망, 즉 <b>딥러닝</b>이 된다.   \n",
        "#### 정제되지 않은 데이터를 머신러닝 알고리즘에 입력하려면 데이터의 특징을 사람이 직접 추출해야한다. 이때 특징을 추출하는 작업을 <b>특징 추출</b> 또는 <b>특징 공학</b>이라고 한다.    \n",
        "#### 특징 추출로 데이터를 단순화하면 학습이 쉬워지는데 여기서 설정이 잘못 될 경우 중요한 데이터를 잃어버릴 수도 있다. 사람이 직접 특징을 추출하게 되면 손이 많이갈 뿐더러 시간이 오래걸리게 된다. 딥러닝이 등장함으로써 특징 추출 단계의 자동화를 상당부분 이루었다. 즉, 딥러닝은 사람의 개입을 줄이는 머신러닝의 알고리즘이라고 볼 수 있다.   \n",
        "![KakaoTalk_20200203_152912081](https://user-images.githubusercontent.com/52433160/73634420-82b98a80-46a4-11ea-92c6-197c0d3e28a0.jpg)\n",
        "#### 딥러닝의 제약\n",
        " - 데이터양 : 높은 정확도를 위해 엄청난 양의 학습데이터 필요\n",
        " -시간과 하드웨어 : 대량의 데이터로 수식을 수백만 번 이상 계산하면서 학습을 하기때문에 높은 사양의 컴퓨팅 자원과 시간 소요\n",
        "\n",
        " 오늘날 증가하는 데이터와 하드웨어의 발전으로 제약은 해소되고 딥러닝의 필요성은 증가한다. "
      ]
    },
    {
      "cell_type": "markdown",
      "metadata": {
        "id": "6mfRkEQfRWv9",
        "colab_type": "text"
      },
      "source": [
        " > ## 파이토치가 개발되기까지   \n",
        "\n",
        " 딥러닝 알고리즘은 행렬연산을 반복하게 되는데, 실제 데이터를 이용해 학습하게 되면 최소 며칠부터 몇달까지 걸리는 경우도 있다. 이 연산량을 해결하기 위해 GPU를 사용하여 행렬연산을 가속하는 테아노(Theano)라는 딥러닝 프레임워크가 등장했다. 이후 Keras와 같은 오픈소스 라이브러리들이 테아노를 기반으로 탄생했다. 하지만 Theano는 직관적이지 않은 사용법과 잦은 버그, 대형 모델에 적용하기 어려운 점 때문에 개발이 중단되었다.   \n",
        "  여러 딥러닝 프레임워크가 개발되었고  딥러닝 프레임워크가 개발되었고 Tensor Flow, Caffe, MXNet, CNTK등이 있다. \n",
        "  #### PyTorch는 TensorFlow 이후 탄생한 비교적 새로운 딥러닝 프레임워크이다.\n",
        "  ![KakaoTalk_20200203_162809538](https://user-images.githubusercontent.com/52433160/73640283-52c4b400-46b1-11ea-9bdf-23085ef6de06.png)"
      ]
    },
    {
      "cell_type": "markdown",
      "metadata": {
        "id": "MH0mK2a3RZiN",
        "colab_type": "text"
      },
      "source": [
        "> ## 왜 파이토치인가?   \n",
        "\n",
        "####파이토치는 페이스북 주도로 여러 회사와 대학이 합심해 개발한 오픈소스 소프트웨어로, 머신러닝과 딥러닝 모델을 쉽게 구현할 수 있도록 많은 편의 기능을 제공하는 프레임워크이다.    \n",
        "\n",
        "###파이토치의 장점\n",
        "-  간결하고 직관적이다. 코드가 의미하는 바를 그대로 나타내 파이썬과 Numpy 기초를 익힌 사람이면 쉽게 사용할 수 있다.   \n",
        "- 동적 계산 그래프 방식이다. 데이터에 유연한 모델을 만들 수 있다.\n",
        "- 미래에는 자율주행차, 게임, 인터넷 등 쌓이는 데이터에 실시간으로 대응하는 동적인 학습 방법이 중요해지기 때문에 미래지향적이다.\n",
        "![KakaoTalk_20200203_152913227](https://user-images.githubusercontent.com/52433160/73634415-81885d80-46a4-11ea-8b2c-aafd1839a059.jpg)   \n",
        "- 유연하고 빠르다. 대표적인 데이터셋과 모델을 사용하는 실험에서 타이탄 GPU를 사용한 파이토치가 가장 빠르다. \n",
        "![KakaoTalk_20200203_152913515](https://user-images.githubusercontent.com/52433160/73634414-81885d80-46a4-11ea-9b20-0d989e0f0850.jpg)   \n",
        " 모델을 학습할 때의 성능   \n",
        "\n",
        "![KakaoTalk_20200203_152914029](https://user-images.githubusercontent.com/52433160/73634421-82b98a80-46a4-11ea-93f1-d31561d1f78f.jpg)   \n",
        "예측할 때의 성능     \n",
        "\n",
        "---\n",
        "####파이토치에 관한 커뮤니티 활동이 활발하다. 파이토치용 각종 비전 및 텍스트 데이터셋과 데이터 관리용 도구를 모아둔 토치비전(torchvision)과 토치텍스트(torchtext), 학습용 코드 프로토타이핑을 편하게 해주는 이그나이트(Ignite)가 대표적이다. Ignite, AllenNLP, ELF, fastal 등 파이토치와 같이 사용할 수 있는 각종 라이브러리들이 있고 한국에도 한국 파이토치 사용자 그룹인 PyTorch KR이 있어 정보 교류가 활발하게 이뤄지고 있다. "
      ]
    },
    {
      "cell_type": "markdown",
      "metadata": {
        "id": "Eqm2rXhuRcdf",
        "colab_type": "text"
      },
      "source": [
        " # <b>Ch.02 파이토치 시작하기</b>\n",
        "####파이토치 환경설정과 사용법"
      ]
    },
    {
      "cell_type": "markdown",
      "metadata": {
        "id": "Vldm8_yuSLxk",
        "colab_type": "text"
      },
      "source": [
        "# <b>Ch.03 파이토치로 구현하는 ANN</b>   \n",
        "\n",
        "### 파이토치를 이용하여 가장 기본적인 인공 신경망(artificial neural network, ANN)을 만들어보자.   \n",
        "- 텐서와 Autograd 패키지\n",
        "- 경사하강법으로 이미지 복원하기\n",
        "- 신경망 모델 구현하기  \n",
        "---\n",
        "> ## 텐서와 Autograd \n",
        "\n",
        "### 텐서의 차원 자유자재로 다루기\n",
        "\n",
        "- 랭크0텐서: 숫자가 하나인 스칼라   \n",
        "- 랭크1텐서: 숫자를 일려로 나열\n",
        "- 랭크2텐서: 2차원 행렬 = nxm 행렬\n",
        "- 랭크3텐서: 3차원 행렬\n",
        "- 랭크n텐서: n차원 행렬"
      ]
    },
    {
      "cell_type": "code",
      "metadata": {
        "id": "CUH37SdKUbdd",
        "colab_type": "code",
        "colab": {
          "base_uri": "https://localhost:8080/",
          "height": 122
        },
        "outputId": "bab598ee-4d9f-43bc-f5c4-f14c4cab7040"
      },
      "source": [
        "#랭크2텐서: 2차원 3x3행렬 표현해보기\n",
        "import torch\n",
        "x = torch.tensor([[1,2,3], [4,5,6], [7,8,9]])\n",
        "print(x)\n",
        "print(\"Size:\", x.size())\n",
        "print(\"Shape:\", x.shape)\n",
        "print(\"랭크(차원):\", x.ndimension())"
      ],
      "execution_count": 1,
      "outputs": [
        {
          "output_type": "stream",
          "text": [
            "tensor([[1, 2, 3],\n",
            "        [4, 5, 6],\n",
            "        [7, 8, 9]])\n",
            "Size: torch.Size([3, 3])\n",
            "Shape: torch.Size([3, 3])\n",
            "랭크(차원): 2\n"
          ],
          "name": "stdout"
        }
      ]
    },
    {
      "cell_type": "markdown",
      "metadata": {
        "id": "qgwj11FTVX7k",
        "colab_type": "text"
      },
      "source": [
        "####unsqueeze(), squeeze(), view() 함수로 텐서의 랭크와 shape를 바꿔보자.\n",
        " - 텐서의 원소 수는 그대로 유지하면서 차원과 모양을 조절할 수 있다.\n",
        " - 원소의 개수를 바꾸려고 시도하면 에러가 발생한다. "
      ]
    },
    {
      "cell_type": "code",
      "metadata": {
        "id": "GjU59zfPVCid",
        "colab_type": "code",
        "colab": {
          "base_uri": "https://localhost:8080/",
          "height": 122
        },
        "outputId": "4ec2fe5b-1742-4ccf-d07e-4d9326aaf736"
      },
      "source": [
        "# unsqueeze 로 랭크 올리기 -> [ ] 한쌍이 늘어남\n",
        "x = torch.unsqueeze(x, 0)\n",
        "print(x)\n",
        "print(\"Size:\", x.size())\n",
        "print(\"Shape:\", x.shape)\n",
        "print(\"랭크(차원):\", x.ndimension())"
      ],
      "execution_count": 2,
      "outputs": [
        {
          "output_type": "stream",
          "text": [
            "tensor([[[1, 2, 3],\n",
            "         [4, 5, 6],\n",
            "         [7, 8, 9]]])\n",
            "Size: torch.Size([1, 3, 3])\n",
            "Shape: torch.Size([1, 3, 3])\n",
            "랭크(차원): 3\n"
          ],
          "name": "stdout"
        }
      ]
    },
    {
      "cell_type": "code",
      "metadata": {
        "id": "ihQSzbw6Vpxj",
        "colab_type": "code",
        "colab": {
          "base_uri": "https://localhost:8080/",
          "height": 122
        },
        "outputId": "9875c287-e529-46fc-a0cd-f5318723c574"
      },
      "source": [
        "#squeeze 로 랭크 줄이기 -> [ ] 한쌍이 사라짐\n",
        "x = torch.squeeze(x)\n",
        "print(x)\n",
        "print(\"Size:\", x.size())\n",
        "print(\"Shape:\", x.shape) \n",
        "print(\"랭크(차원):\", x.ndimension())"
      ],
      "execution_count": 3,
      "outputs": [
        {
          "output_type": "stream",
          "text": [
            "tensor([[1, 2, 3],\n",
            "        [4, 5, 6],\n",
            "        [7, 8, 9]])\n",
            "Size: torch.Size([3, 3])\n",
            "Shape: torch.Size([3, 3])\n",
            "랭크(차원): 2\n"
          ],
          "name": "stdout"
        }
      ]
    },
    {
      "cell_type": "code",
      "metadata": {
        "id": "noTC94Y4VrMs",
        "colab_type": "code",
        "colab": {
          "base_uri": "https://localhost:8080/",
          "height": 87
        },
        "outputId": "2338e1f6-31fe-44bf-848a-67bb8c5bf82e"
      },
      "source": [
        "# view로 랭크 줄이기 -> 랭크1로 바뀜\n",
        "x = x.view(9)\n",
        "print(x)\n",
        "print(\"Size:\", x.size())\n",
        "print(\"Shape:\", x.shape)\n",
        "print(\"랭크(차원):\", x.ndimension())"
      ],
      "execution_count": 4,
      "outputs": [
        {
          "output_type": "stream",
          "text": [
            "tensor([1, 2, 3, 4, 5, 6, 7, 8, 9])\n",
            "Size: torch.Size([9])\n",
            "Shape: torch.Size([9])\n",
            "랭크(차원): 1\n"
          ],
          "name": "stdout"
        }
      ]
    },
    {
      "cell_type": "code",
      "metadata": {
        "id": "RnAAkufSVstP",
        "colab_type": "code",
        "colab": {
          "base_uri": "https://localhost:8080/",
          "height": 34
        },
        "outputId": "615788cb-9428-42f3-8e78-94ab82ff97da"
      },
      "source": [
        "#원소가 9개인 텐서를 2x4 즉, 원소가 8개인 텐서로 바꾸려 할때 에러가 난다.\n",
        "try:\n",
        "    x = x.view(2,4)\n",
        "except Exception as e:\n",
        "    print(e) #에러 출력"
      ],
      "execution_count": 5,
      "outputs": [
        {
          "output_type": "stream",
          "text": [
            "shape '[2, 4]' is invalid for input of size 9\n"
          ],
          "name": "stdout"
        }
      ]
    },
    {
      "cell_type": "markdown",
      "metadata": {
        "id": "DGV3Nf7vVx_r",
        "colab_type": "text"
      },
      "source": [
        "### 텐서를 이용한 연산과 행렬곱\n",
        "- A.B라는 두 행렬곱을 하려면 A행렬의 열과, B행렬의 행이 같아야한다.\n",
        "- A*B행렬의 행 개수는 A와 같고, 열의 개수는 B와 같다.\n"
      ]
    },
    {
      "cell_type": "code",
      "metadata": {
        "id": "YwGwuI13VuZq",
        "colab_type": "code",
        "colab": {
          "base_uri": "https://localhost:8080/",
          "height": 193
        },
        "outputId": "1f7dc3f9-95b4-4a73-d232-16d2c11eebee"
      },
      "source": [
        "#무작위 5x3인 무작위 행렬w과 / 3x2행렬인 x를 행렬곱해본다.\n",
        "import torch\n",
        "\n",
        "w = torch.randn(5,3, dtype=torch.float)\n",
        "x = torch.tensor([[1.0,2.0], [3.0,4.0], [5.0,6.0]])\n",
        "print(\"w size:\", w.size())\n",
        "print(\"x size:\", x.size())\n",
        "print(\"w:\", w)\n",
        "print(\"x:\", x)"
      ],
      "execution_count": 6,
      "outputs": [
        {
          "output_type": "stream",
          "text": [
            "w size: torch.Size([5, 3])\n",
            "x size: torch.Size([3, 2])\n",
            "w: tensor([[-0.7060, -0.6324, -0.4831],\n",
            "        [-0.4515, -1.4308, -0.6938],\n",
            "        [-0.0336, -0.0686, -0.3371],\n",
            "        [-0.9505, -0.3040, -0.1332],\n",
            "        [ 0.0578,  0.2238,  1.5265]])\n",
            "x: tensor([[1., 2.],\n",
            "        [3., 4.],\n",
            "        [5., 6.]])\n"
          ],
          "name": "stdout"
        }
      ]
    },
    {
      "cell_type": "code",
      "metadata": {
        "id": "RpHN8Vc-WgCU",
        "colab_type": "code",
        "colab": {
          "base_uri": "https://localhost:8080/",
          "height": 122
        },
        "outputId": "d5c16077-8fd8-4e18-9833-6ff1854a2098"
      },
      "source": [
        "# w의 행은 5, x의 열은 2, 즉 shape는 [5, 2]입니다.\n",
        "wx = torch.mm(w,x) \n",
        "print(\"wx size:\", wx.size())\n",
        "print(\"wx:\", wx)"
      ],
      "execution_count": 7,
      "outputs": [
        {
          "output_type": "stream",
          "text": [
            "wx size: torch.Size([5, 2])\n",
            "wx: tensor([[ -5.0187,  -6.8402],\n",
            "        [ -8.2126, -10.7885],\n",
            "        [ -1.9246,  -2.3638],\n",
            "        [ -2.5285,  -3.9161],\n",
            "        [  8.3615,  10.1696]])\n"
          ],
          "name": "stdout"
        }
      ]
    },
    {
      "cell_type": "code",
      "metadata": {
        "id": "gNGMjJdMWhg1",
        "colab_type": "code",
        "colab": {
          "base_uri": "https://localhost:8080/",
          "height": 122
        },
        "outputId": "80bfc905-f73a-4ec7-9cd4-65daa89b5a03"
      },
      "source": [
        "# 5x2 무작위 행렬 b와 wx와 행렬의 합을 해본다.\n",
        "b = torch.randn(5,2, dtype=torch.float)\n",
        "print(\"b:\", b.size())\n",
        "print(\"b:\", b)"
      ],
      "execution_count": 8,
      "outputs": [
        {
          "output_type": "stream",
          "text": [
            "b: torch.Size([5, 2])\n",
            "b: tensor([[-1.8295,  0.5028],\n",
            "        [-1.8826, -0.3384],\n",
            "        [-1.4509,  0.3383],\n",
            "        [ 1.5264,  0.5382],\n",
            "        [-1.0387,  2.7448]])\n"
          ],
          "name": "stdout"
        }
      ]
    },
    {
      "cell_type": "code",
      "metadata": {
        "id": "87y7GVc7Wnm2",
        "colab_type": "code",
        "colab": {
          "base_uri": "https://localhost:8080/",
          "height": 122
        },
        "outputId": "4470cd8f-9a76-4b69-e157-85363cb76495"
      },
      "source": [
        "# 무작위 함수 w . b때문에 결과가 항상 다르게 나온다.\n",
        "result = wx + b\t\n",
        "print(\"result size:\", result.size()) \n",
        "print(\"result:\", result)"
      ],
      "execution_count": 9,
      "outputs": [
        {
          "output_type": "stream",
          "text": [
            "result size: torch.Size([5, 2])\n",
            "result: tensor([[ -6.8483,  -6.3374],\n",
            "        [-10.0952, -11.1269],\n",
            "        [ -3.3754,  -2.0255],\n",
            "        [ -1.0021,  -3.3779],\n",
            "        [  7.3228,  12.9144]])\n"
          ],
          "name": "stdout"
        }
      ]
    },
    {
      "cell_type": "markdown",
      "metadata": {
        "id": "nEL0KgwRWwZ7",
        "colab_type": "text"
      },
      "source": [
        "### Autograd(자동 기울기)\n",
        "####<b>Autograd</b>는 말 그대로 수식의 기울기를 자동으로 계산한다는 뜻이다.   \n",
        "####<b>거리</b>는 머신러닝의 예측 결과와 실제 데이터의 차이이고, <b>오차</b>는 거리들의 평균을 말한다.    \n",
        "####오차가 작은 머신러닝 모델일수록 주어진 데이터에 대해 더 정확한 답을 낸다고 볼 수 있다.\n",
        "---\n",
        "\n",
        "###경사하강법에 대해 알아보자.\n",
        "함수를 미분하여 기울기를 구해 오차의 최소값이 있는 방향을 찾아내는 알고리즘으로 Autograd로 구현할 수 있다.\n"
      ]
    },
    {
      "cell_type": "code",
      "metadata": {
        "id": "RlB4TFCOWpi8",
        "colab_type": "code",
        "colab": {
          "base_uri": "https://localhost:8080/",
          "height": 52
        },
        "outputId": "44f0034f-24f1-443e-fbc7-54b176871dbd"
      },
      "source": [
        "# 값이 1.0인 스칼라 텐서 w를 정의하고, requires_grad를 True로 설정하여 Autograd 기능이 자동으로 계산할 때 w에 대한 기울기를 저장한다.\n",
        "\n",
        "import torch\n",
        "w = torch.tensor(1.0, requires_grad=True)\n",
        "a = w*3 \n",
        "l = a**2 # I=a^2=9w^2\n",
        "l.backward()  # backward()함수로 a와 w를 차례로 미분한다.\n",
        "print(w.grad)\n",
        "print('l을 w로 미분한 값은 {}'.format(w.grad))"
      ],
      "execution_count": 10,
      "outputs": [
        {
          "output_type": "stream",
          "text": [
            "tensor(18.)\n",
            "l을 w로 미분한 값은 18.0\n"
          ],
          "name": "stdout"
        }
      ]
    },
    {
      "cell_type": "markdown",
      "metadata": {
        "id": "eMuesB6gYkKL",
        "colab_type": "text"
      },
      "source": [
        "> ## 경사하강법으로 이미지 복원하기 \n",
        "\n",
        "### 오염된 이미지 문제\n",
        " 1. 오염된 이미지와 크기가 같은 랜덤 텐서를 생성한다.   \n",
        " 2. 랜덤 텐서를 버그가 발생한 weird_function() 함수에 입력해 똑같이 오염된 이미지를 '가설'한다.   \n",
        " 3. 가설과 오염된 이미지가 같다면, 무작위 이미지와 원본 이미지도 같을 것이다.   \n",
        " 4. 그러므로 weird_funtion(랜덤텐서)=broken_image 관계가 성립하도록 만든다.    \n",
        "\n",
        " 가설 이미지와 원본 이미지 사이의 거리가 오차이다.   \n",
        " Autograd를 이용하여 기울기가 작아지는 방향을 찾아 오차값이 최솟값이 되도록 랜덤 탠서를 바꿔준다.\n",
        "\n"
      ]
    },
    {
      "cell_type": "code",
      "metadata": {
        "id": "r40W2cgDZrHr",
        "colab_type": "code",
        "colab": {
          "base_uri": "https://localhost:8080/",
          "height": 125
        },
        "outputId": "06f5c121-1dbe-43d3-c9cd-ff6c708a1ca5"
      },
      "source": [
        "from google.colab import drive\n",
        "drive.mount('/content/drive')"
      ],
      "execution_count": 12,
      "outputs": [
        {
          "output_type": "stream",
          "text": [
            "Go to this URL in a browser: https://accounts.google.com/o/oauth2/auth?client_id=947318989803-6bn6qk8qdgf4n4g3pfee6491hc0brc4i.apps.googleusercontent.com&redirect_uri=urn%3aietf%3awg%3aoauth%3a2.0%3aoob&response_type=code&scope=email%20https%3a%2f%2fwww.googleapis.com%2fauth%2fdocs.test%20https%3a%2f%2fwww.googleapis.com%2fauth%2fdrive%20https%3a%2f%2fwww.googleapis.com%2fauth%2fdrive.photos.readonly%20https%3a%2f%2fwww.googleapis.com%2fauth%2fpeopleapi.readonly\n",
            "\n",
            "Enter your authorization code:\n",
            "··········\n",
            "Mounted at /content/drive\n"
          ],
          "name": "stdout"
        }
      ]
    },
    {
      "cell_type": "code",
      "metadata": {
        "id": "f7DKtQWHYWOl",
        "colab_type": "code",
        "colab": {
          "base_uri": "https://localhost:8080/",
          "height": 286
        },
        "outputId": "a012b7ac-cc09-4925-c61b-e2bf4bcff643"
      },
      "source": [
        "# pickle : 오염된 이미지 파일을 로딩하는데 사용하는 라이브러리\n",
        "# matplotlib=plt : 오염된 이미지와 복원된 이미지를 출력하는데 사용하는데 라이브러리 \n",
        "# 랭크1의 10000개의 원소인 broken_image을 맷플롯립을 이용해서 랭크2 (100 100) 행렬로 나타낸다.\n",
        "\n",
        "import torch\n",
        "import pickle\n",
        "import matplotlib.pyplot as plt\n",
        "broken_image =  torch.FloatTensor( pickle.load(open('/content/drive/My Drive/Colab Notebooks/broken_image_t.p', 'rb'),encoding='latin1' ) )\n",
        "plt.imshow(broken_image.view(100,100))"
      ],
      "execution_count": 13,
      "outputs": [
        {
          "output_type": "execute_result",
          "data": {
            "text/plain": [
              "<matplotlib.image.AxesImage at 0x7f9519abc908>"
            ]
          },
          "metadata": {
            "tags": []
          },
          "execution_count": 13
        },
        {
          "output_type": "display_data",
          "data": {
            "image/png": "[encoded data removed]",
            "text/plain": [
              "<Figure size 432x288 with 1 Axes>"
            ]
          },
          "metadata": {
            "tags": []
          }
        }
      ]
    },
    {
      "cell_type": "code",
      "metadata": {
        "id": "bh-gZSwRZfl-",
        "colab_type": "code",
        "colab": {}
      },
      "source": [
        "#이미지를 오염시키는 weird_funtion() 함수\n",
        "\n",
        "def weird_function(x, n_iter=5):\n",
        "    h = x    \n",
        "    filt = torch.tensor([-1./3, 1./3, -1./3])\n",
        "    for i in range(n_iter):\n",
        "        zero_tensor = torch.tensor([1.0*0])\n",
        "        h_l = torch.cat( (zero_tensor, h[:-1]), 0)\n",
        "        h_r = torch.cat((h[1:], zero_tensor), 0 )\n",
        "        h = filt[0] * h + filt[2] * h_l + filt[1] * h_r\n",
        "        if i % 2 == 0:\n",
        "            h = torch.cat( (h[h.shape[0]//2:],h[:h.shape[0]//2]), 0  )\n",
        "    return h"
      ],
      "execution_count": 0,
      "outputs": []
    },
    {
      "cell_type": "code",
      "metadata": {
        "id": "n3ixzkqpZ4CI",
        "colab_type": "code",
        "colab": {}
      },
      "source": [
        "# broken 이미지와 같은 랭크와 모양인 랭크2 (100 100) 무작위 랜덤텐서를 생성한다.\n",
        "\n",
        "random_tensor = torch.randn(10000, dtype = torch.float)"
      ],
      "execution_count": 0,
      "outputs": []
    },
    {
      "cell_type": "code",
      "metadata": {
        "id": "zqlAvvY9Z5tE",
        "colab_type": "code",
        "colab": {}
      },
      "source": [
        "# weiid_function() 함수에 무작위 텐서를 넣어서 얻은 가설 텐서와 오염된 이미지 사이의 거리를 구할 torch.dist() 함수를 구현한다.\n",
        "\n",
        "def distance_loss(hypothesis, broken_image):    \n",
        "    return torch.dist(hypothesis, broken_image)"
      ],
      "execution_count": 0,
      "outputs": []
    },
    {
      "cell_type": "markdown",
      "metadata": {
        "id": "ESH4Hi2MZ8t6",
        "colab_type": "text"
      },
      "source": [
        "####**경사하강법으로 여러 번 반복해서 최솟점을 찾아가는데 이 때, 학습을 어느 정도로 할지 학습률을 설정한다.**\n",
        "\n",
        "\n",
        "#### 학습률이 너무 크면 최소값을 찾지 못하고 지나치게 되고, 학습률이 너무 작으면 속도가 너무 느려서 적당한 학습률을 설정해야 한다."
      ]
    },
    {
      "cell_type": "code",
      "metadata": {
        "id": "VBJk2tIhZ8R7",
        "colab_type": "code",
        "colab": {
          "base_uri": "https://localhost:8080/",
          "height": 369
        },
        "outputId": "f38810df-3db7-439c-a39f-a750342a1624"
      },
      "source": [
        "lr = 0.8\n",
        "\n",
        "# 랜덤 텐서의 requires_grad를 True로 설정하여 오차 함수를 랜덤 텐서로 미분 할 수 있게 준비한다...\n",
        "\n",
        "for i in range(0,20000):\n",
        "    random_tensor.requires_grad_(True)\n",
        "    \n",
        "# 랜덤 텐서를 weird_function() 함수에 넣어 가설을 구한다.\n",
        "# distance_loss()함수에 가설과 broken image를 넣어 오차를 계산한다.\n",
        "# backward() 함수로 오차를 랜덤 텐서로 미분한다\n",
        "\n",
        "    hypothesis = weird_function(random_tensor)\n",
        "    loss = distance_loss(hypothesis, broken_image)\n",
        "    loss.backward()\n",
        "\n",
        "# 파라미터(가중치)가 모두 같다면 최종 손실값에 대한 미분값도 모두 같아지기 때문에 torch.no_grad() 함수로 가중치를 적절한 값들로 초기화한다...\n",
        "\n",
        "    with torch.no_grad():\n",
        "        random_tensor = random_tensor - lr*random_tensor.grad\n",
        "\n",
        "# 계산한 오차의 기울기값에는 최댓값으로 가는 방향이 들어 있기때문에, 반대방향으로 가도록 학습률만큼 이동시킨다. \n",
        "\n",
        "    if i % 1000 == 0:\n",
        "        print('Loss at {} = {}'.format(i, loss.item()))"
      ],
      "execution_count": 17,
      "outputs": [
        {
          "output_type": "stream",
          "text": [
            "Loss at 0 = 12.272422790527344\n",
            "Loss at 1000 = 1.1360697746276855\n",
            "Loss at 2000 = 0.5501344799995422\n",
            "Loss at 3000 = 0.3794294595718384\n",
            "Loss at 4000 = 0.2985531687736511\n",
            "Loss at 5000 = 0.24978135526180267\n",
            "Loss at 6000 = 0.2149754762649536\n",
            "Loss at 7000 = 0.18738242983818054\n",
            "Loss at 8000 = 0.16402925550937653\n",
            "Loss at 9000 = 0.14339376986026764\n",
            "Loss at 10000 = 0.12460009753704071\n",
            "Loss at 11000 = 0.10710297524929047\n",
            "Loss at 12000 = 0.09054366499185562\n",
            "Loss at 13000 = 0.0746777355670929\n",
            "Loss at 14000 = 0.05933671444654465\n",
            "Loss at 15000 = 0.044404592365026474\n",
            "Loss at 16000 = 0.02980411984026432\n",
            "Loss at 17000 = 0.02115030214190483\n",
            "Loss at 18000 = 0.021165475249290466\n",
            "Loss at 19000 = 0.021167602390050888\n"
          ],
          "name": "stdout"
        }
      ]
    },
    {
      "cell_type": "code",
      "metadata": {
        "id": "ScXXYQAqZ7EU",
        "colab_type": "code",
        "colab": {
          "base_uri": "https://localhost:8080/",
          "height": 286
        },
        "outputId": "d3a8b848-43d9-4a1a-9aa0-bb2d94baa0b0"
      },
      "source": [
        "# 1000번 계산할때마다 오차를 출력해서 이미지를 복원한다.\n",
        "\n",
        "plt.imshow(random_tensor.view(100,100).data)"
      ],
      "execution_count": 18,
      "outputs": [
        {
          "output_type": "execute_result",
          "data": {
            "text/plain": [
              "<matplotlib.image.AxesImage at 0x7f951958c860>"
            ]
          },
          "metadata": {
            "tags": []
          },
          "execution_count": 18
        },
        {
          "output_type": "display_data",
          "data": {
            "image/png": "[encoded data removed]",
            "text/plain": [
              "<Figure size 432x288 with 1 Axes>"
            ]
          },
          "metadata": {
            "tags": []
          }
        }
      ]
    },
    {
      "cell_type": "markdown",
      "metadata": {
        "id": "69H9u7IXatCA",
        "colab_type": "text"
      },
      "source": [
        "> ## 신경망 모델 구현하기\n",
        "\n",
        "####<b>인공 신경망(ANN)</b>는 인간의 뇌, 혹은 신경계의 작동 방식을 참고하여, 수학적 연산으로 입력된 자극을 처리하는 인공 뉴런이다.    \n",
        "\n",
        "![image](https://user-images.githubusercontent.com/52433160/73750076-eaa0cb80-479f-11ea-8d0a-b286631dbe9b.png)\n",
        "\n",
        "\n",
        "- 입력층 : 자극을 입력받는 부분\n",
        "- 은닉층 : 자극을 전달하는 과정이 일어나는 부분\n",
        "- 출력층 : 자극이 반응으로 나타나는 부분\n",
        "\n",
        "![image](https://user-images.githubusercontent.com/52433160/73750027-d3fa7480-479f-11ea-8021-f9d18d5e8441.png)   \n",
        "\n",
        "####  즉, 각 층에 존재하는 매개변수인 가중치에 형랠곱하고 편향을 더해서 활성화 함수를 거쳐서 결과값을 만들어내는 것이다.   \n",
        "####  결과값과 정답사이의 오차를 계산하여, 역전파 알고리즘을 통해 출력층의 가중치부터 입력층의 가중치까지 뒤에서 부터 모두 경사하강법을 통해 조정해서 정답에 가까워져야 한다."
      ]
    },
    {
      "cell_type": "markdown",
      "metadata": {
        "id": "M1n7mjZJcv_g",
        "colab_type": "text"
      },
      "source": [
        "###간단한 분류 모델 구현하기\n",
        "\n",
        "0과 1로 된 정답을 가진 데이터셋을 생성해보고, 신경망 모델을 학습하여 입력된 데이터를 0과 1중 알맞은 카테고리로 분류해보자.\n"
      ]
    },
    {
      "cell_type": "code",
      "metadata": {
        "id": "3nuQ8Et-ajuh",
        "colab_type": "code",
        "colab": {}
      },
      "source": [
        "# 넘파이: 행렬과 백터 연사에 유용한 수치해석용 라이브러리\n",
        "# 사이킷런: 머신러닝용 라이브러리로 \n",
        "# 넘파이와 사이킷런으로 학습 데이터를 만든다.\n",
        "\n",
        "# 맷플릇립: 학습 데이터의 분포와 패턴을 시각화 하는데 사용\n",
        "\n",
        "import torch\n",
        "import numpy\n",
        "from sklearn.datasets import make_blobs\n",
        "import matplotlib.pyplot as plt\n",
        "import torch.nn.functional as F\n"
      ],
      "execution_count": 0,
      "outputs": []
    },
    {
      "cell_type": "code",
      "metadata": {
        "id": "YTZ17x1Sc_lW",
        "colab_type": "code",
        "colab": {}
      },
      "source": [
        "# train 데이터셋은 신경망 학습에 쓰인다\n",
        "# test 데이터셋은 학습이 끝난 신경망의 성능을 평가하고 실험한다.\n",
        "# make_blobs() 함수는 데이터를 2차원 백터로 만들어 준다\n",
        "\n",
        "n_dim = 2\n",
        "x_train, y_train = make_blobs(n_samples=80, n_features=n_dim, centers=[[1,1],[-1,-1],[1,-1],[-1,1]], shuffle=True, cluster_std=0.3)\n",
        "x_test, y_test = make_blobs(n_samples=20, n_features=n_dim, centers=[[1,1],[-1,-1],[1,-1],[-1,1]], shuffle=True, cluster_std=0.3)"
      ],
      "execution_count": 0,
      "outputs": []
    },
    {
      "cell_type": "code",
      "metadata": {
        "id": "95a5hG48dCS8",
        "colab_type": "code",
        "colab": {}
      },
      "source": [
        "#4개의 레이블을 2개로 합쳐서 기본적인 모델을 구현한다.\n",
        "#label_map()함수로 0,1 데이터는 전부 0번 레이블로 \n",
        "#                  2,3 데이터는 전부 1번 테이블로 바꿔준다.\n",
        "\n",
        "def label_map(y_, from_, to_):\n",
        "    y = numpy.copy(y_)\n",
        "    for f in from_:\n",
        "        y[y_ == f] = to_\n",
        "    return y\n",
        "\n",
        "y_train = label_map(y_train, [0, 1], 0)\n",
        "y_train = label_map(y_train, [2, 3], 1)\n",
        "y_test = label_map(y_test, [0, 1], 0)\n",
        "y_test = label_map(y_test, [2, 3], 1)"
      ],
      "execution_count": 0,
      "outputs": []
    },
    {
      "cell_type": "code",
      "metadata": {
        "id": "EvdbPDhidGJK",
        "colab_type": "code",
        "colab": {
          "base_uri": "https://localhost:8080/",
          "height": 265
        },
        "outputId": "7127da29-df70-4c9a-9383-cb59b2da33b1"
      },
      "source": [
        "#맷플릇립으로 데이터가 제대로 만들어지고 레이블링됬는지 확인한다.\n",
        "#왼쪽 아래와 오른쪽 위 데이터는 0을 레이블로\n",
        "#오른쪽 아래와 왼쪽 위는 1을 레이블로 갖게 된다.\n",
        "\n",
        "def vis_data(x,y = None, c = 'r'):\n",
        "    if y is None:\n",
        "        y = [None] * len(x)\n",
        "    for x_, y_ in zip(x,y):\n",
        "        if y_ is None:\n",
        "            plt.plot(x_[0], x_[1], '*',markerfacecolor='none', markeredgecolor=c)\n",
        "        else:\n",
        "            plt.plot(x_[0], x_[1], c+'o' if y_ == 0 else c+'+')\n",
        "\n",
        "plt.figure()\n",
        "vis_data(x_train, y_train, c='r')\n",
        "plt.show()"
      ],
      "execution_count": 22,
      "outputs": [
        {
          "output_type": "display_data",
          "data": {
            "image/png": "[encoded data removed]",
            "text/plain": [
              "<Figure size 432x288 with 1 Axes>"
            ]
          },
          "metadata": {
            "tags": []
          }
        }
      ]
    },
    {
      "cell_type": "code",
      "metadata": {
        "id": "YmdAM9YBdIVR",
        "colab_type": "code",
        "colab": {
          "base_uri": "https://localhost:8080/",
          "height": 34
        },
        "outputId": "c9416213-21ff-4434-d6b7-55be0f5494f1"
      },
      "source": [
        "#넘파이 백터 형식 데이터를 파이토치 텐서로 바꿔준다\n",
        "\n",
        "x_train = torch.FloatTensor(x_train)\n",
        "print(x_train.shape)\n",
        "x_test = torch.FloatTensor(x_test)\n",
        "y_train = torch.FloatTensor(y_train)\n",
        "y_test = torch.FloatTensor(y_test)"
      ],
      "execution_count": 23,
      "outputs": [
        {
          "output_type": "stream",
          "text": [
            "torch.Size([80, 2])\n"
          ],
          "name": "stdout"
        }
      ]
    },
    {
      "cell_type": "code",
      "metadata": {
        "id": "RrChdRzbdJje",
        "colab_type": "code",
        "colab": {}
      },
      "source": [
        "#신경망의 구조와 동작을 정의한다.\n",
        "\n",
        "#nn_Module로 파이토치의 각종 도구를 사용한다\n",
        "#___init___() 함수로 객체의 속성값을 초기화한다.\n",
        "#super() 함수로 nn_Module 클래스의 속성을 초기화한다.  .\n",
        "#input_size 신경망에 입력되는 데이터\n",
        "#hidden_size 입력된 데이터는 중간층을 지나 출력층으로 전달된다\n",
        "\n",
        "class NeuralNet(torch.nn.Module):\n",
        "        def __init__(self, input_size, hidden_size):\n",
        "            super(NeuralNet, self).__init__()\n",
        "            self.input_size = input_size\n",
        "            self.hidden_size  = hidden_size\n",
        "\n",
        "#linear_1 은  [self.input_size, self.hidden_size] 크기의 가중치를 행렬곱하고 편향을 더 하여 [1. hidden_size] 꼴의 텐서를 만든다.\n",
        "\n",
        "            self.linear_1 = torch.nn.Linear(self.input_size, self.hidden_size)\n",
        "\n",
        "#활성화 함수인 ReLU로 입력값이 0 보다 작으면 0 ,  0보다 크면 그대로 출력한다.            \n",
        "            \n",
        "            self.relu = torch.nn.ReLU()\n",
        "\n",
        "#linear_2 은 [self hidden_size, 1] 크기의 가중치를 행렬곱하고 편향을 더하여 [1, 1] 꼴의 텐서를 만든다\n",
        "\n",
        "            self.linear_2 = torch.nn.Linear(self.hidden_size, 1)\n",
        "\n",
        "#0과 1사이의 임의의 수로 제한해주는 시그로이드 함수에 통과시켜 결과값이 0과 1에 중 어디에 가까운지 알 수 있다.\n",
        "\n",
        "            self.sigmoid = torch.nn.Sigmoid()\n",
        "            \n",
        "#forward() 함수로 정의한 동작들을 차례로 실행한다.\n",
        "\n",
        "        def forward(self, input_tensor):\n",
        "            linear1 = self.linear_1(input_tensor)\n",
        "            relu = self.relu(linear1)\n",
        "            linear2 = self.linear_2(relu)\n",
        "            output = self.sigmoid(linear2)\n",
        "            return output"
      ],
      "execution_count": 0,
      "outputs": []
    },
    {
      "cell_type": "code",
      "metadata": {
        "id": "uchaquyMdNFw",
        "colab_type": "code",
        "colab": {}
      },
      "source": [
        "# 실제로 신경망 객체를 생성하고 학습에 필요한 변수와 알고리즘을 정의한다.\n",
        "\n",
        "# input을 2 hidden을 5로 설정한다\n",
        "\n",
        "model = NeuralNet(2, 5)\n",
        "\n",
        "#학습률을 설정 0/03으로 설정한다.\n",
        "\n",
        "learning_rate = 0.03\n",
        "\n",
        "#파이토치에서 제공하는 오차 함수 중 1가지인 BCELoss()함수를 사용한다.\n",
        "\n",
        "criterion = torch.nn.BCELoss()\n",
        "\n",
        "#학습을 얼마나 할지 설정한다.\n",
        "\n",
        "epochs = 2000\n",
        "\n",
        "#파이토치에서 제공하는 확률적 경사하강법(SGD) 를 사용하겠다. \n",
        "#optimizer은 가중치를 학습률만큼 갱신한다 (가중치를 갱신하지 않으면 값이 그대로다)\n",
        "\n",
        "optimizer = torch.optim.SGD(model.parameters(), lr = learning_rate)"
      ],
      "execution_count": 0,
      "outputs": []
    },
    {
      "cell_type": "code",
      "metadata": {
        "id": "w1oQWscDdO-H",
        "colab_type": "code",
        "colab": {
          "base_uri": "https://localhost:8080/",
          "height": 34
        },
        "outputId": "28403859-86d2-4fb6-b237-170eb5d9f9cc"
      },
      "source": [
        "# 사용할 모델의 성능을 시험해보겠다 \n",
        "# squeeze()함수로 차원을 맞춰주고 item() 함수로 텐서 속의 숫자를 스칼라 값으로 변환한다.\n",
        "#-> 오차가 0.73 -> 100번중 73번 틀린다= 쓸모없다\n",
        "\n",
        "model.eval()\n",
        "test_loss_before = criterion(model(x_test).squeeze(), y_test)\n",
        "print('Before Training, test loss is {}'.format(test_loss_before.item()))"
      ],
      "execution_count": 27,
      "outputs": [
        {
          "output_type": "stream",
          "text": [
            "Before Training, test loss is 0.6769967675209045\n"
          ],
          "name": "stdout"
        }
      ]
    },
    {
      "cell_type": "markdown",
      "metadata": {
        "id": "VC7nF0fidbgJ",
        "colab_type": "text"
      },
      "source": [
        "#### 신경망을 학습시켜 성능을 개선해보자."
      ]
    },
    {
      "cell_type": "code",
      "metadata": {
        "id": "t_AUlEE5dQ1L",
        "colab_type": "code",
        "colab": {
          "base_uri": "https://localhost:8080/",
          "height": 369
        },
        "outputId": "99b9c322-a796-4811-9973-9e663ae31c5b"
      },
      "source": [
        "# 이폭만큼 반복하는것을 입력한다.\n",
        "\n",
        "for epoch in range(epochs):\n",
        "\n",
        "# train()함수로 학습 모드로 바꿔주고 zero_grad()함수로 경사값(기울기)를 0으로 설정한다\n",
        "# 경사값을 0으로 안해주면 최소나 최대를 향해 간다. \n",
        "\n",
        "    model.train()\n",
        "    optimizer.zero_grad()\n",
        "\n",
        "#학습 데이터를 입력하여 결과값을 계산한다\n",
        "\n",
        "    train_output = model(x_train)\n",
        "\n",
        "#결과값을 squeeze함수로 랭크를 늘려서 레이블과 같은 차원으로 만들고 오차를 계산한다.\n",
        "\n",
        "    train_loss = criterion(train_output.squeeze(), y_train)\n",
        "\n",
        "#100번 입력마다 오차를 출력한다.\n",
        "\n",
        "    if epoch % 100 == 0:\n",
        "        print('Train loss at {} is {}'.format(epoch, train_loss.item()))\n",
        "\n",
        "# 역전파를 수행한다. \n",
        "# 오염된 이미지를 복원할때 처럼 optimizer 함수를 이용해서\n",
        "# 오차를 가중치로 미분하여 오차가 최소가 되는 방향을 구하고, 그 방향으로 모델을 학습률만큼 이동시킨다.    \n",
        "    \n",
        "    train_loss.backward()\n",
        "    optimizer.step()"
      ],
      "execution_count": 28,
      "outputs": [
        {
          "output_type": "stream",
          "text": [
            "Train loss at 0 is 0.6784793138504028\n",
            "Train loss at 100 is 0.6143296957015991\n",
            "Train loss at 200 is 0.522156834602356\n",
            "Train loss at 300 is 0.41403383016586304\n",
            "Train loss at 400 is 0.31389135122299194\n",
            "Train loss at 500 is 0.2371455729007721\n",
            "Train loss at 600 is 0.18127506971359253\n",
            "Train loss at 700 is 0.14164070785045624\n",
            "Train loss at 800 is 0.11353490501642227\n",
            "Train loss at 900 is 0.0932004526257515\n",
            "Train loss at 1000 is 0.07813739776611328\n",
            "Train loss at 1100 is 0.06672868132591248\n",
            "Train loss at 1200 is 0.05791133642196655\n",
            "Train loss at 1300 is 0.050954945385456085\n",
            "Train loss at 1400 is 0.0453600212931633\n",
            "Train loss at 1500 is 0.04072193056344986\n",
            "Train loss at 1600 is 0.0367559976875782\n",
            "Train loss at 1700 is 0.033243726938962936\n",
            "Train loss at 1800 is 0.030253145843744278\n",
            "Train loss at 1900 is 0.02773379348218441\n"
          ],
          "name": "stdout"
        }
      ]
    },
    {
      "cell_type": "code",
      "metadata": {
        "id": "i3edJeTPd1BS",
        "colab_type": "code",
        "colab": {
          "base_uri": "https://localhost:8080/",
          "height": 34
        },
        "outputId": "04aa70d6-d843-448b-afc7-2da279684864"
      },
      "source": [
        "# train모델에서 평가모델로 바꾸고 x_test와 y_test로 오차를 구한다. \n",
        "# ->오차가 0.003으로 매우 많이 줄었다.\n",
        "\n",
        "model.eval()\n",
        "test_loss = criterion(model(x_test).squeeze(), y_test) \n",
        "print('After Training, test loss is {}'.format(test_loss.item()))"
      ],
      "execution_count": 29,
      "outputs": [
        {
          "output_type": "stream",
          "text": [
            "After Training, test loss is 0.027412936091423035\n"
          ],
          "name": "stdout"
        }
      ]
    },
    {
      "cell_type": "code",
      "metadata": {
        "id": "Y-ldbpVld3JN",
        "colab_type": "code",
        "colab": {
          "base_uri": "https://localhost:8080/",
          "height": 125
        },
        "outputId": "026b59e1-9ecc-49f9-8799-341774cad2be"
      },
      "source": [
        "#학습된 모델을 가중치 텐서와 평향 텐서로 표현하는 state_dict 함수 형태로 바꾼후 파이썬 형식으로 저장한다.\n",
        "\n",
        "torch.save(model.state_dict(), './model.pt')\n",
        "print('state_dict format of the model: {}'.format(model.state_dict()))"
      ],
      "execution_count": 30,
      "outputs": [
        {
          "output_type": "stream",
          "text": [
            "state_dict format of the model: OrderedDict([('linear_1.weight', tensor([[ 0.0463,  0.2025],\n",
            "        [-0.7236,  0.6066],\n",
            "        [ 1.9017,  1.5892],\n",
            "        [-1.6544, -1.8036],\n",
            "        [ 1.3614, -1.5612]])), ('linear_1.bias', tensor([-0.5708,  0.9395, -0.0885, -0.3262,  0.0384])), ('linear_2.weight', tensor([[ 0.1613,  1.3819, -2.4160, -2.3708,  1.9407]])), ('linear_2.bias', tensor([0.8269]))])\n"
          ],
          "name": "stdout"
        }
      ]
    },
    {
      "cell_type": "code",
      "metadata": {
        "id": "cN-hK-HTd4tY",
        "colab_type": "code",
        "colab": {
          "base_uri": "https://localhost:8080/",
          "height": 34
        },
        "outputId": "0ea575a8-7877-4572-af5d-547e825e5d70"
      },
      "source": [
        "#이제 언제든지 저장한 파일을 읽어들여 새로운 신경망 객체에 이미 학습된 모델의 가중치를 곧바로 적용할 수 있다.\n",
        "\n",
        "new_model = NeuralNet(2, 5)\n",
        "new_model.load_state_dict(torch.load('./model.pt'))\n",
        "new_model.eval()\n",
        "print('벡터 [-1, 1]이 레이블 1을 가질 확률은 {}'.format(new_model(torch.FloatTensor([-1,1])).item()))"
      ],
      "execution_count": 31,
      "outputs": [
        {
          "output_type": "stream",
          "text": [
            "벡터 [-1, 1]이 레이블 1을 가질 확률은 0.9813548922538757\n"
          ],
          "name": "stdout"
        }
      ]
    },
    {
      "cell_type": "markdown",
      "metadata": {
        "id": "dGUH1NJ_eLhx",
        "colab_type": "text"
      },
      "source": [
        "# <b>Ch04. 패션 아이템을 구분하는 DNN</b>\n",
        "\n",
        "### 앞서 배운 인공 신경망을 이용하여 Fashion MNIST 데이터 셋 안의 패션 아이템을 구분해 보도록 하자.\n",
        " - Fashion MNIST 데이터셋 알아보기\n",
        " - 인공 신경망으로 패션 아이템 분류하기\n",
        " - 성능 측정하기\n",
        " - 과적합과 드롭아웃\n",
        "\n",
        " ---\n",
        "\n",
        " > ## Fashion MNIST 데이터셋 알아보기\n",
        "\n",
        " #### <b>데이터셋</b>은 우리가 풀고자 하는 문제를 정의한다. 문제 정의가 잘못되면 아무리 풀이를 잘 해도 별 의미가 없기 때문에 데이터셋을 관찰 및 관리하는 기술은 매우 중요하다.\n",
        " #### Fashion MNIST 는 28x28픽셀 70,000개의 흑백 이미지로 구성되며 신발, 드레스, 가방 등 총 10가지 카테고리가 존재한다.\n",
        "\n",
        " #### 딥러닝 모델 학습에 앞서 데이터 가공과정을 먼저 거쳐야 한다. 파이토치의 이미지 처리용 툴인 토치비전(torchvision)이 이 데이터셋을 자동으로 내려받고 학습 데이터를 나누는 일까지 도와줄 것이다. 이미지 데이터를 다루기 위한 파이토치와 토치비전의 몇 가지 모듈을 알아보자.\n",
        "\n",
        "  - torch.utils.data : 데이터셋의 표준 정의, 데이터셋을 불러오고 자르고 섞는 도구들이 들어있는 모듈.\n",
        "   - torch.utils.data.Dataset : 파이토치 모델 학습을 위한 데이터셋의 표준을 정의.\n",
        "   - torch.utils.data.DataLoader : Dataset 모듈을 상속하는 클래스에서 학습에 필요한 데이터 로딩.\n",
        "  - torchvision.datasets : 위의 data.Dataset을 상속하는 이미지 데이터셋 모음.\n",
        "  - torchvision.transforms : 이미지 변환 필터(텐서변환, 크기조절 등)를 담고 있음.\n",
        "  - torchvision.utils :이미지 데이터 저장 및 시각화."
      ]
    },
    {
      "cell_type": "code",
      "metadata": {
        "id": "sdaut_MYd69S",
        "colab_type": "code",
        "colab": {
          "base_uri": "https://localhost:8080/",
          "height": 122
        },
        "outputId": "6f8b1a37-6cb7-40a1-a9f3-1b2da75b5072"
      },
      "source": [
        "pip install torch==1.4.0+cpu torchvision==0.5.0+cpu -f https://download.pytorch.org/whl/torch_stable.html"
      ],
      "execution_count": 1,
      "outputs": [
        {
          "output_type": "stream",
          "text": [
            "Looking in links: https://download.pytorch.org/whl/torch_stable.html\n",
            "Requirement already satisfied: torch==1.4.0+cpu in /usr/local/lib/python3.6/dist-packages (1.4.0+cpu)\n",
            "Requirement already satisfied: torchvision==0.5.0+cpu in /usr/local/lib/python3.6/dist-packages (0.5.0+cpu)\n",
            "Requirement already satisfied: six in /usr/local/lib/python3.6/dist-packages (from torchvision==0.5.0+cpu) (1.12.0)\n",
            "Requirement already satisfied: pillow>=4.1.1 in /usr/local/lib/python3.6/dist-packages (from torchvision==0.5.0+cpu) (6.2.2)\n",
            "Requirement already satisfied: numpy in /usr/local/lib/python3.6/dist-packages (from torchvision==0.5.0+cpu) (1.17.5)\n"
          ],
          "name": "stdout"
        }
      ]
    },
    {
      "cell_type": "code",
      "metadata": {
        "id": "nxUCyaIBeTyJ",
        "colab_type": "code",
        "colab": {}
      },
      "source": [
        "# 토치비전과 파이토치 패키지 불러오기\n",
        "from torchvision import datasets, transforms, utils\n",
        "from torch.utils import data"
      ],
      "execution_count": 0,
      "outputs": []
    },
    {
      "cell_type": "code",
      "metadata": {
        "id": "TRmLs-41eXSj",
        "colab_type": "code",
        "colab": {}
      },
      "source": [
        "import numpy as np\n",
        "import matplotlib.pyplot as plt"
      ],
      "execution_count": 0,
      "outputs": []
    },
    {
      "cell_type": "code",
      "metadata": {
        "id": "T3DKo9n4eX8I",
        "colab_type": "code",
        "colab": {}
      },
      "source": [
        "# 이미지를 텐서로 변환하는 코드 설정\n",
        "transform = transforms.Compose([transforms.ToTensor()])"
      ],
      "execution_count": 0,
      "outputs": []
    },
    {
      "cell_type": "markdown",
      "metadata": {
        "id": "uqAclSJdeWBx",
        "colab_type": "text"
      },
      "source": [
        "#### 토치비전 Transforms에서 자주 쓰이는 기능들은 다음과 같다.\n",
        " - ToTensor : 이미지를 파이토치 텐서로 변환\n",
        " - Resize : 이미지 크기 조정\n",
        " - Normalize : 주어진 평균과 표준편차를 이용하여 정규화\n",
        " - RandomHorizontalFlip : 무작위로 이미지의 좌우를 뒤집음\n",
        " - RandomCrop : 이미지를 무작위로 자름."
      ]
    },
    {
      "cell_type": "code",
      "metadata": {
        "id": "UkPnrgQsez6I",
        "colab_type": "code",
        "colab": {
          "base_uri": "https://localhost:8080/",
          "height": 391,
          "referenced_widgets": [
            "000c8abfb9e9494994854883bc8b0134",
            "517d7bd3627741d0be081815cd0d3bc6",
            "ba64a5d6dd094a18894099a618661899",
            "2f48fed7102341378798dae851c75e42",
            "d6a228602b124b228a45de815aceb281",
            "a517ad510cf24f0585a101b978643eeb",
            "dadc2686ac8847f1b121517cf0aeea9d",
            "f975aff253fb4d92a9bccd4ba429ec8b",
            "5f906e07bb0f41b68bb5a6fe8965b2fb",
            "9c3bba3d458c41068161b85236ed2efc",
            "9e01a527d81b445f95c822d62b8b90ed",
            "a88a5833a8374f9399c9d2eb3bd6b03c",
            "7a72917f749f4a7d989373f8c326b260",
            "67c4cb54b25449018c93463dce53dab8",
            "63303c5634054464a65a415482174382",
            "7a7a314b2b06459083b9fc055b13812e",
            "81de41c635c142298a0e047cffd399c3",
            "7790c476325a41d4911912ff0ab40a91",
            "ee29632c37db4800ba0a8bffdf9e07f6",
            "6f95dddca89b40b5939e9772c1f06ed8",
            "b5fff4301a714c6784dda2e7ab212357",
            "e03e5a58b6214fdd9f00cacf8051a437",
            "9548beeb50c24d16994ed3a496749b05",
            "93865d56beec4927ab53aee6cbaa783e",
            "94e6e8f4a4bc48e2bbc63ea2b8fbd916",
            "74e4ccc66bce4566b05045e30aed8a37",
            "5f40ccc0811648ddbcbbe2b926f8fa16",
            "5c5ba4df89674b4b8d32f7d1c4be2193",
            "a46a8d9e3d8242c1958001af5ee8257c",
            "98e909498a8b4f98bd23ed2218ef65ee",
            "609afb6fa9314bad975ce2d359172bec",
            "c2705487e5394593b4ccc19a2183d8dd"
          ]
        },
        "outputId": "d374d447-f020-4500-ee48-9cf18ef2d3da"
      },
      "source": [
        "# Fashion MNIST 데이터셋 가져오기\n",
        "# 학습용 트레닝 셋\n",
        "trainset=datasets.FashionMNIST(root='./.data/', train=True, download=True, transform=transform)\n",
        "# train에 대한 True/False 설정을 통해 훈련/평가 데이터 구분, 이미지 변환은 위에서 설정한 transform코드 이용\n",
        "\n",
        "# 성능 평가용 데이터셋\n",
        "testset=datasets.FashionMNIST(root='./.data/', train=False, download=True, transform=transform)"
      ],
      "execution_count": 5,
      "outputs": [
        {
          "output_type": "stream",
          "text": [
            "Downloading http://fashion-mnist.s3-website.eu-central-1.amazonaws.com/train-images-idx3-ubyte.gz to ./.data/FashionMNIST/raw/train-images-idx3-ubyte.gz\n"
          ],
          "name": "stdout"
        },
        {
          "output_type": "display_data",
          "data": {
            "application/vnd.jupyter.widget-view+json": {
              "model_id": "000c8abfb9e9494994854883bc8b0134",
              "version_minor": 0,
              "version_major": 2
            },
            "text/plain": [
              "HBox(children=(IntProgress(value=1, bar_style='info', max=1), HTML(value='')))"
            ]
          },
          "metadata": {
            "tags": []
          }
        },
        {
          "output_type": "stream",
          "text": [
            "\n",
            "Extracting ./.data/FashionMNIST/raw/train-images-idx3-ubyte.gz to ./.data/FashionMNIST/raw\n",
            "Downloading http://fashion-mnist.s3-website.eu-central-1.amazonaws.com/train-labels-idx1-ubyte.gz to ./.data/FashionMNIST/raw/train-labels-idx1-ubyte.gz\n"
          ],
          "name": "stdout"
        },
        {
          "output_type": "display_data",
          "data": {
            "application/vnd.jupyter.widget-view+json": {
              "model_id": "5f906e07bb0f41b68bb5a6fe8965b2fb",
              "version_minor": 0,
              "version_major": 2
            },
            "text/plain": [
              "HBox(children=(IntProgress(value=1, bar_style='info', max=1), HTML(value='')))"
            ]
          },
          "metadata": {
            "tags": []
          }
        },
        {
          "output_type": "stream",
          "text": [
            "\n",
            "Extracting ./.data/FashionMNIST/raw/train-labels-idx1-ubyte.gz to ./.data/FashionMNIST/raw\n",
            "Downloading http://fashion-mnist.s3-website.eu-central-1.amazonaws.com/t10k-images-idx3-ubyte.gz to ./.data/FashionMNIST/raw/t10k-images-idx3-ubyte.gz\n"
          ],
          "name": "stdout"
        },
        {
          "output_type": "display_data",
          "data": {
            "application/vnd.jupyter.widget-view+json": {
              "model_id": "81de41c635c142298a0e047cffd399c3",
              "version_minor": 0,
              "version_major": 2
            },
            "text/plain": [
              "HBox(children=(IntProgress(value=1, bar_style='info', max=1), HTML(value='')))"
            ]
          },
          "metadata": {
            "tags": []
          }
        },
        {
          "output_type": "stream",
          "text": [
            "\n",
            "Extracting ./.data/FashionMNIST/raw/t10k-images-idx3-ubyte.gz to ./.data/FashionMNIST/raw\n",
            "Downloading http://fashion-mnist.s3-website.eu-central-1.amazonaws.com/t10k-labels-idx1-ubyte.gz to ./.data/FashionMNIST/raw/t10k-labels-idx1-ubyte.gz\n"
          ],
          "name": "stdout"
        },
        {
          "output_type": "display_data",
          "data": {
            "application/vnd.jupyter.widget-view+json": {
              "model_id": "94e6e8f4a4bc48e2bbc63ea2b8fbd916",
              "version_minor": 0,
              "version_major": 2
            },
            "text/plain": [
              "HBox(children=(IntProgress(value=1, bar_style='info', max=1), HTML(value='')))"
            ]
          },
          "metadata": {
            "tags": []
          }
        },
        {
          "output_type": "stream",
          "text": [
            "\n",
            "Extracting ./.data/FashionMNIST/raw/t10k-labels-idx1-ubyte.gz to ./.data/FashionMNIST/raw\n",
            "Processing...\n",
            "Done!\n"
          ],
          "name": "stdout"
        }
      ]
    },
    {
      "cell_type": "markdown",
      "metadata": {
        "id": "Oln5WT9ye5pH",
        "colab_type": "text"
      },
      "source": [
        "#### 앞에서 언급하였듯이 torchvision.datasets로 생성된 객체는 파이토치 내부의 torch.utils.data.Dataset을 상속한다. 때문에 데이터셋을 배치 단위로 쪼개고 학습 시 반복문 안에서 데이터를 공급해주는 DataLoader 클래스를 이용할 수 있다. DataLoader의 매개변수에 앞서 불러온 데이터셋을 넣어주고 배치 크기를 지정해준다."
      ]
    },
    {
      "cell_type": "code",
      "metadata": {
        "id": "A1YdaXcMe2E1",
        "colab_type": "code",
        "colab": {}
      },
      "source": [
        "batch_size=16\n",
        "train_loader = data.DataLoader(dataset=trainset, batch_size=batch_size)\n",
        "test_loader= data.DataLoader(dataset=testset, batch_size=batch_size)"
      ],
      "execution_count": 0,
      "outputs": []
    },
    {
      "cell_type": "markdown",
      "metadata": {
        "id": "sigDfdi5e_p6",
        "colab_type": "text"
      },
      "source": [
        "이제 편하게 데이터를 뽑아쓸 수 있다. 배치 1개만 뽑아서 데이터가 어떻게 생겼는지 살펴보자."
      ]
    },
    {
      "cell_type": "code",
      "metadata": {
        "id": "jiVSQn1Ie-4q",
        "colab_type": "code",
        "colab": {}
      },
      "source": [
        "# iter함수는 전달된 Data를 반복반환\n",
        "dataiter = iter(train_loader)\n",
        "# next함수로 반복자를 입력받아 출력해야 할 요소를 설정\n",
        "images, labels = next(dataiter) # images, labels 출력"
      ],
      "execution_count": 0,
      "outputs": []
    },
    {
      "cell_type": "markdown",
      "metadata": {
        "id": "dgK8RfljfIII",
        "colab_type": "text"
      },
      "source": [
        "####앞에서 가져온 배치의 이미지들을 전체적으로 살펴보자. 토치비전의 utils.make_grid() 함수를 이용하면 여러 이미지들을 하나의 이미지로 만들 수 있다. 이 때, img는 파이토치 텐서이기 때문에 맷플롯립과 호환이 되는  넘파이 행렬로 바꿔준다. 또한 맷플롯립이 인식하는 차원의 순서가 다르므로 np.transpose() 함수를 이용하여 첫 번재(0번째) 차원을 맨뒤로 보낸다."
      ]
    },
    {
      "cell_type": "code",
      "metadata": {
        "id": "uboHZoJUfH13",
        "colab_type": "code",
        "colab": {
          "base_uri": "https://localhost:8080/",
          "height": 190
        },
        "outputId": "36c4be7b-46ff-4fb2-f81b-1f9ade97c278"
      },
      "source": [
        "img = utils.make_grid(images, padding=0)\n",
        "npimg = img.numpy() # img를 넘파이 행렬로 변환\n",
        "plt.figure(figsize=(10,7))\n",
        "plt.imshow(np.transpose(npimg, (1,2,0))) # 첫번째, 두번째 차원을 읽어 이미지로 나타냄\n",
        "plt.show()"
      ],
      "execution_count": 9,
      "outputs": [
        {
          "output_type": "display_data",
          "data": {
            "image/png": "[encoded data removed]",
            "text/plain": [
              "<Figure size 720x504 with 1 Axes>"
            ]
          },
          "metadata": {
            "tags": []
          }
        }
      ]
    },
    {
      "cell_type": "code",
      "metadata": {
        "id": "uoqVUBO1fDMr",
        "colab_type": "code",
        "colab": {
          "base_uri": "https://localhost:8080/",
          "height": 52
        },
        "outputId": "c628053b-d50a-477d-8ec1-72a7d7e9f994"
      },
      "source": [
        "print(img.size())\n",
        "print(npimg.shape) # np.transpose 함수를 이용하여 맷플롯립에서 (56, 224을 읽음)"
      ],
      "execution_count": 10,
      "outputs": [
        {
          "output_type": "stream",
          "text": [
            "torch.Size([3, 56, 224])\n",
            "(3, 56, 224)\n"
          ],
          "name": "stdout"
        }
      ]
    },
    {
      "cell_type": "code",
      "metadata": {
        "id": "2xWHEmqofM8I",
        "colab_type": "code",
        "colab": {
          "base_uri": "https://localhost:8080/",
          "height": 269
        },
        "outputId": "a9b4a47d-625e-4696-afa9-980b06d88fce"
      },
      "source": [
        "plt.imshow(np.transpose(npimg,(2,1,0)))\n",
        "plt.show()"
      ],
      "execution_count": 11,
      "outputs": [
        {
          "output_type": "display_data",
          "data": {
            "image/png": "[encoded data removed]",
            "text/plain": [
              "<Figure size 432x288 with 1 Axes>"
            ]
          },
          "metadata": {
            "tags": []
          }
        }
      ]
    },
    {
      "cell_type": "code",
      "metadata": {
        "id": "KqvpJ74dfN_u",
        "colab_type": "code",
        "colab": {
          "base_uri": "https://localhost:8080/",
          "height": 34
        },
        "outputId": "fdfd701c-f102-45eb-df69-eb0113886814"
      },
      "source": [
        "# 레이블 출력\n",
        "print(labels)"
      ],
      "execution_count": 12,
      "outputs": [
        {
          "output_type": "stream",
          "text": [
            "tensor([9, 0, 0, 3, 0, 2, 7, 2, 5, 5, 0, 9, 5, 5, 7, 9])\n"
          ],
          "name": "stdout"
        }
      ]
    },
    {
      "cell_type": "markdown",
      "metadata": {
        "id": "NGhnuHFjfQG6",
        "colab_type": "text"
      },
      "source": [
        "####이미지 클래스들은 '티셔츠/윗옷', '바지', '스웨터' 등의 10가지이다. 위처럼 숫자 번호로 주어진 레이블을 해석하기 편하도록 딕셔너리를 생성하자."
      ]
    },
    {
      "cell_type": "code",
      "metadata": {
        "id": "8uWqHJfgfPVG",
        "colab_type": "code",
        "colab": {}
      },
      "source": [
        "CLASSES={0:'T-shirt/top',1:'Trouser',2:'Pullover',3:'Dress',4:'Coat',5:'Sandal',6:'Shirt',7:'Sneaker',8:'Bag',9:'Ankle boot'}"
      ],
      "execution_count": 0,
      "outputs": []
    },
    {
      "cell_type": "code",
      "metadata": {
        "id": "lBdi9NtBfTkY",
        "colab_type": "code",
        "colab": {
          "base_uri": "https://localhost:8080/",
          "height": 298
        },
        "outputId": "9a4128eb-04f6-4f1f-d9dc-7b76292a898a"
      },
      "source": [
        "# 앞에서 출력한 labels의 영문 텍스트 출력\n",
        "for label in labels:\n",
        "    index=label.item()\n",
        "    print(CLASSES[index])"
      ],
      "execution_count": 14,
      "outputs": [
        {
          "output_type": "stream",
          "text": [
            "Ankle boot\n",
            "T-shirt/top\n",
            "T-shirt/top\n",
            "Dress\n",
            "T-shirt/top\n",
            "Pullover\n",
            "Sneaker\n",
            "Pullover\n",
            "Sandal\n",
            "Sandal\n",
            "T-shirt/top\n",
            "Ankle boot\n",
            "Sandal\n",
            "Sandal\n",
            "Sneaker\n",
            "Ankle boot\n"
          ],
          "name": "stdout"
        }
      ]
    },
    {
      "cell_type": "markdown",
      "metadata": {
        "id": "UV3DcDkCfVYZ",
        "colab_type": "text"
      },
      "source": [
        "#### 이미지 데이터는 가로, 세로, 색상의 3차원으로 표현되며, 가로세로는 픽셀 수, 색상값은 흑백 사진이므로 1가지 숫자로 나타낼 수 있다. FashionMNIST에서 이미지 크기는 28x28, 색상 채널은 1가지이므로 입력 x의 특징값 총 개수는 28x28x1, 즉 784개이다.\n",
        "\n",
        "#### 개별 이미지를 꺼내 보도록 하자. 데이터셋에서 첫 번째 이미지를 꺼내고 squeeze() 와 numpy() 함수를 적용하여 맷플롯립에 적용한다. 또한 앞에서 만들어 둔 딕셔너리를 이용하여 레이블을 나타낸다."
      ]
    },
    {
      "cell_type": "code",
      "metadata": {
        "id": "Ktu6tC-kfUdl",
        "colab_type": "code",
        "colab": {
          "base_uri": "https://localhost:8080/",
          "height": 281
        },
        "outputId": "3ea9045f-081e-49ab-9486-5b777c31ec4c"
      },
      "source": [
        "idx=1\n",
        "item_img = images[idx] # 앞의 배치(16개) 이미지에서 2번째 이미지 출력\n",
        "item_npimg = item_img.squeeze().numpy() # 크기가 1인 차원 삭제(28x28 이미지로 변경)\n",
        "plt.title(CLASSES[labels[idx].item()]) # item함수는 값이 하나인 텐서를 스칼라값으로 출력\n",
        "plt.imshow(item_npimg, cmap='gray') # matplotlib color 이용\n",
        "plt.show()"
      ],
      "execution_count": 15,
      "outputs": [
        {
          "output_type": "display_data",
          "data": {
            "image/png": "[encoded data removed]",
            "text/plain": [
              "<Figure size 432x288 with 1 Axes>"
            ]
          },
          "metadata": {
            "tags": []
          }
        }
      ]
    },
    {
      "cell_type": "code",
      "metadata": {
        "id": "UsfCs9OzfY_N",
        "colab_type": "code",
        "colab": {
          "base_uri": "https://localhost:8080/",
          "height": 281
        },
        "outputId": "6413f949-f49b-47f1-c78c-bfd3c63aec92"
      },
      "source": [
        "idx=0\n",
        "item_img = images[idx]\n",
        "item_npimg = item_img.squeeze().numpy()\n",
        "plt.title(CLASSES[labels[idx].item()])\n",
        "plt.imshow(item_npimg, cmap='hot')\n",
        "plt.show()"
      ],
      "execution_count": 16,
      "outputs": [
        {
          "output_type": "display_data",
          "data": {
            "image/png": "[encoded data removed]",
            "text/plain": [
              "<Figure size 432x288 with 1 Axes>"
            ]
          },
          "metadata": {
            "tags": []
          }
        }
      ]
    },
    {
      "cell_type": "code",
      "metadata": {
        "id": "KZclpO9ifaQG",
        "colab_type": "code",
        "colab": {
          "base_uri": "https://localhost:8080/",
          "height": 265
        },
        "outputId": "7b05b1aa-e16b-49ab-ee00-76597d3aad13"
      },
      "source": [
        "plt.imshow(item_npimg, cmap='cool')\n",
        "plt.show()"
      ],
      "execution_count": 17,
      "outputs": [
        {
          "output_type": "display_data",
          "data": {
            "image/png": "[encoded data removed]",
            "text/plain": [
              "<Figure size 432x288 with 1 Axes>"
            ]
          },
          "metadata": {
            "tags": []
          }
        }
      ]
    },
    {
      "cell_type": "markdown",
      "metadata": {
        "id": "6z7RyCjofctH",
        "colab_type": "text"
      },
      "source": [
        "---\n",
        "\n",
        "> ## 인공 신경망으로 패션 아이템 분류하기\n",
        "\n",
        "#### 이번에는 패션 아이템 이미지를 인식하여 레이블을 예측하는 기본적인 심층 인공 신경망(Deep Neural Network, DNN)을 만들어 보자.\n",
        "\n",
        "#### 먼저 파이토치, 인공 신경망 모델의 재료들을 담고 있는 nn 모듈, 최적화를 위한 optim 모듈, nn모듈의 함수 버전인 functional을 F로 불러온다. 또한 데이터셋을 다루기 위해 transforms와 datasets를 임포트한다."
      ]
    },
    {
      "cell_type": "code",
      "metadata": {
        "id": "lou7nCaWfbqL",
        "colab_type": "code",
        "colab": {}
      },
      "source": [
        "import torch\n",
        "import torch.nn as nn\n",
        "import torch.optim as optim\n",
        "import torch.nn.functional as F\n",
        "from torchvision import transforms, datasets"
      ],
      "execution_count": 0,
      "outputs": []
    },
    {
      "cell_type": "code",
      "metadata": {
        "id": "UVYa5LO2fgpE",
        "colab_type": "code",
        "colab": {}
      },
      "source": [
        "# CUDA(pytorch에서 GPU를 사용하게 해주는 도구)설치 여부를 기준으로 GPU / CPU 사용 결정\n",
        "USE_CUDA = torch.cuda.is_available()\n",
        "# DEVICE 변수를 통해 나중에 텐서 및 가중치 연산에서 GPU / CPU 사용결정\n",
        "DEVICE = torch.device('cuda' if USE_CUDA else 'cpu')"
      ],
      "execution_count": 0,
      "outputs": []
    },
    {
      "cell_type": "code",
      "metadata": {
        "id": "KXWv-UUdfhxn",
        "colab_type": "code",
        "colab": {
          "base_uri": "https://localhost:8080/",
          "height": 34
        },
        "outputId": "c9d947b2-27cf-4f86-e75b-1fa5a25c0085"
      },
      "source": [
        "USE_CUDA"
      ],
      "execution_count": 20,
      "outputs": [
        {
          "output_type": "execute_result",
          "data": {
            "text/plain": [
              "False"
            ]
          },
          "metadata": {
            "tags": []
          },
          "execution_count": 20
        }
      ]
    },
    {
      "cell_type": "code",
      "metadata": {
        "id": "USo6TkrPfiyx",
        "colab_type": "code",
        "colab": {}
      },
      "source": [
        "# 이폭은 학습 데이터 전체를 총 몇 번이나 볼 것인가에 대한 설정\n",
        "EPOCHS = 30\n",
        "BATCH_SIZE = 64"
      ],
      "execution_count": 0,
      "outputs": []
    },
    {
      "cell_type": "markdown",
      "metadata": {
        "id": "UrLZ67xUfk4I",
        "colab_type": "text"
      },
      "source": [
        "#### 이미지 분류는 한장의 이미지를 받아 이 이미지가 어느 클래스(레이블)에 속하는지 알려주는 문제이다.\n",
        "\n",
        "#### 이제 신경망을 구현해 보자. 모델은 입력 x와 레이블 y를 받아 학습한 다음, 새로운 x가 왔을 때 어떤 패션 아이템인지 예측할 것이다. 우리가 사용할 모델은 레이어가 3개인 3층 인공 신경망이다.\n",
        "\n",
        "#### 먼저 생성자에 우리 모델의 가중치 변수들이 들어가는 연산을 선언해야 한다. nn.Linear 클래스는 선형결합을 수행하는 객체를 만든다."
      ]
    },
    {
      "cell_type": "code",
      "metadata": {
        "id": "w-c1heMLfkO5",
        "colab_type": "code",
        "colab": {}
      },
      "source": [
        "class Net(nn.Module):\n",
        "  def __init__(self):\n",
        "    super(Net, self).__init__()\n",
        "# 함수 fc1()은 픽셀값 784개를 입력받아 가중치를 행렬곱하고 편향을 더해 값 256개를 출력\n",
        "    self.fc1 = nn.Linear(784, 256)\n",
        "# fc2()와 fc3() 함수를 거쳐 마지막에 값 10개를 출력\n",
        "    self.fc2 = nn.Linear(256, 128)\n",
        "# 출력값 10개는 각각의 클래스를 나타내며 가장 큰 값이 이 모델의 예측값\n",
        "    self.fc3 = nn.Linear(128, 10)\n",
        "\n",
        "# 순전파\n",
        "  def forward(self, x):\n",
        "    x = x.view(-1, 784)\n",
        "    x = F.relu(self.fc1(x)) # Relu 활성화 함수 사용\n",
        "    x = F.relu(self.fc2(x))\n",
        "    x = self.fc3(x)\n",
        "    return x"
      ],
      "execution_count": 0,
      "outputs": []
    },
    {
      "cell_type": "code",
      "metadata": {
        "id": "a19XhZ1Ffpf-",
        "colab_type": "code",
        "colab": {}
      },
      "source": [
        "# 모델 선언\n",
        "# CUDA를 사용할 경우 GPU를 아닐 경우 CPU로 보내도록 설정\n",
        "model = Net().to(DEVICE) # to함수는 모델의 파라미터들을 지정한 장치의 메모리로 보냄\n",
        "\n",
        "# 최적화 알고리즘으로 파이토치 내장 모듈인 optim.SGD(확률적 경사하강법) 사용\n",
        "optimizer = optim.SGD(model.parameters(), lr=0.01)\n",
        "# model.parameters()는 모델 내부의 정보를 넘겨줌, lr=학습률"
      ],
      "execution_count": 0,
      "outputs": []
    },
    {
      "cell_type": "markdown",
      "metadata": {
        "id": "tBevzux5ftL4",
        "colab_type": "text"
      },
      "source": [
        "#### 학습은 데이터를 보고 모델의 가중치를 조절하는 작업을 반복하며 이루어진다. 학습에 들어가는 모든 연산은 train() 함수 안에서 해결할 것이다."
      ]
    },
    {
      "cell_type": "code",
      "metadata": {
        "id": "TJ6rgLYFfrSO",
        "colab_type": "code",
        "colab": {}
      },
      "source": [
        "def train(model, train_loader, optimizer): # 각 인자는 모델, 데이터 공급, 최적화 역할\n",
        "  model.train() # 모델을 학습 모드로 설정\n",
        "# 배치마다의 data, target에 대한 정보를 DEVICE로 보냄\n",
        "  for batch_idx, (data, target) in enumerate(train_loader):\n",
        "    data, target = data.to(DEVICE), target.to(DEVICE)\n",
        "# 반복 때마다 기울기를 새로 계산(누적하지 않음)하므로 zero_grad() 설정\n",
        "    optimizer.zero_grad()\n",
        "    output=model(data)\n",
        "# 교차 엔트로피 사용하여 오차 구함\n",
        "# loss는 미니배치 64개의 오차들의 평균인 하나의 숫자\n",
        "    loss=F.cross_entropy(output, target)\n",
        "# backward 함수를 실행하면 자동으로 기울기가 계산\n",
        "    loss.backward()\n",
        "# 계산한 기울기를 앞서 정의한 알고리즘(SGD)에 맞추어 가중치 수정(매개변수 갱신)\n",
        "    optimizer.step()"
      ],
      "execution_count": 0,
      "outputs": []
    },
    {
      "cell_type": "markdown",
      "metadata": {
        "id": "YrIYAmCLf8wn",
        "colab_type": "text"
      },
      "source": [
        "#### 우리가 원하는 모델은 학습 데이터에 최적화한 모델이 아니라 모든 데이터에서 높은 성능을 보이는 모델이다. 세상에 존재하는 모든 데이터에 최적화하는 것을 <b>일반화(generalization)</b>라고 한다. 또한 학습 데이터를 기반으로 한 모델이 학습하지 않은 데이터에 얼마나 적응하는지를 수치로 나타낸 것을 <b>일반화 오류(generalization error)</b>라고 한다. 일반화 오류는 학습과 실제 성능의 괴리를 뜻하므로 작을수록 좋다.\n",
        "\n",
        "#### 현실적으로 세상의 모든 데이터를 모을 수 없으므로 보통 학습 데이터의 일부를 떼어내어 평가용 데이터셋을 마련한다. 이를 보통 테스트셋(test set)이라고도 하며, 모델이 학습 과정에서 본 적이 없는 실제 세상의 모든 데이터를 대표한다.\n",
        "\n",
        "#### Fashion MNIST 데이터는 비교적 규모가 작은 데이터셋으로 학습/테스트 두가지로 나뉘어 있지만 일반적인 머신러닝 데이터셋은 학습, 검증, 테스트 3단계로 나뉜다. 각각의 역할은 아래와 같다.\n",
        " - 학습용 데이터셋 : 가중치 조절\n",
        " - 검증용 데이터셋 : 배치 크기와 모델 설계 같은 하이퍼파라미터 조절\n",
        " - 테스트용 데이터셋 : 성능 보고"
      ]
    },
    {
      "cell_type": "code",
      "metadata": {
        "id": "X18aiXx9fvbo",
        "colab_type": "code",
        "colab": {}
      },
      "source": [
        "# 이폭이 끝날 때마다 테스트셋으로 모델의 성능 측정하는 evaluate 함수 생성\n",
        "def evaluate(model, test_loader): # 평가가 목적이므로 최적화는 필요 없음\n",
        "    model.eval() # 모델을 평가 모드로 변경\n",
        "    test_loss=0\n",
        "    correct=0\n",
        "# 평가 과정에서는 기울기를 계산하지 않아도 됨\n",
        "    with torch.no_grad():\n",
        "        for data, target in test_loader:\n",
        "            data, target = data.to(DEVICE), target.to(DEVICE)\n",
        "            output=model(data)\n",
        "# 평가를 위해 미니배치들의 평균 대신 합을 받아오도록 reduction='sum' 설정, 즉 모든 오차의 합 출력\n",
        "            test_loss += F.cross_entropy(output, target, reduction='sum').item()\n",
        "# 예측값. output.max()는 가장 큰 값과 그 인덱스를 출력. 그 중 인덱스 이용\n",
        "            pred=output.max(1,keepdim=True)[1]\n",
        "# eq함수는 일치하면 1, 아니면 0 출력. sum함수로 배열 내 값 모두 더하여 배치에서 모델이 정답을 맞힌 개수 구함\n",
        "            correct+=pred.eq(target.view_as(pred)).sum().item()\n",
        "# 총 정답 평균을 구하여 정확도를 구함\n",
        "    test_loss /= len(test_loader.dataset)\n",
        "    test_accuracy=100. * correct / len(test_loader.dataset)\n",
        "    return test_loss, test_accuracy"
      ],
      "execution_count": 0,
      "outputs": []
    },
    {
      "cell_type": "code",
      "metadata": {
        "id": "0b8TmhIMgANW",
        "colab_type": "code",
        "colab": {
          "base_uri": "https://localhost:8080/",
          "height": 545
        },
        "outputId": "0ac5ca70-5c42-4019-baae-f43b1deac0ad"
      },
      "source": [
        "for epoch in range(1,EPOCHS+1):\n",
        "    train(model, train_loader, optimizer) # 훈련 후 평가\n",
        "    test_loss, test_accuracy=evaluate(model, test_loader)\n",
        "# 오차는 소숫점 4자리까지, 정확도는 소숫점 2자리까지\n",
        "    print('[{}] Test Loss: {:.4f}, Accuracy: {:.2f}%'.format(epoch, test_loss, test_accuracy))"
      ],
      "execution_count": 26,
      "outputs": [
        {
          "output_type": "stream",
          "text": [
            "[1] Test Loss: 0.5607, Accuracy: 80.26%\n",
            "[2] Test Loss: 0.4913, Accuracy: 82.34%\n",
            "[3] Test Loss: 0.4569, Accuracy: 83.61%\n",
            "[4] Test Loss: 0.4298, Accuracy: 84.70%\n",
            "[5] Test Loss: 0.4101, Accuracy: 85.41%\n",
            "[6] Test Loss: 0.3953, Accuracy: 85.88%\n",
            "[7] Test Loss: 0.3842, Accuracy: 86.22%\n",
            "[8] Test Loss: 0.3753, Accuracy: 86.68%\n",
            "[9] Test Loss: 0.3666, Accuracy: 86.97%\n",
            "[10] Test Loss: 0.3611, Accuracy: 87.02%\n",
            "[11] Test Loss: 0.3567, Accuracy: 87.21%\n",
            "[12] Test Loss: 0.3539, Accuracy: 87.29%\n",
            "[13] Test Loss: 0.3508, Accuracy: 87.43%\n",
            "[14] Test Loss: 0.3489, Accuracy: 87.55%\n",
            "[15] Test Loss: 0.3455, Accuracy: 87.76%\n",
            "[16] Test Loss: 0.3433, Accuracy: 87.91%\n",
            "[17] Test Loss: 0.3417, Accuracy: 88.06%\n",
            "[18] Test Loss: 0.3388, Accuracy: 88.11%\n",
            "[19] Test Loss: 0.3354, Accuracy: 88.23%\n",
            "[20] Test Loss: 0.3351, Accuracy: 88.32%\n",
            "[21] Test Loss: 0.3359, Accuracy: 88.28%\n",
            "[22] Test Loss: 0.3336, Accuracy: 88.35%\n",
            "[23] Test Loss: 0.3338, Accuracy: 88.42%\n",
            "[24] Test Loss: 0.3352, Accuracy: 88.59%\n",
            "[25] Test Loss: 0.3396, Accuracy: 88.34%\n",
            "[26] Test Loss: 0.3387, Accuracy: 88.51%\n",
            "[27] Test Loss: 0.3412, Accuracy: 88.41%\n",
            "[28] Test Loss: 0.3399, Accuracy: 88.47%\n",
            "[29] Test Loss: 0.3406, Accuracy: 88.49%\n",
            "[30] Test Loss: 0.3440, Accuracy: 88.37%\n"
          ],
          "name": "stdout"
        }
      ]
    },
    {
      "cell_type": "markdown",
      "metadata": {
        "id": "gBPygmjGgDph",
        "colab_type": "text"
      },
      "source": [
        "---\n",
        "\n",
        "> ## 과적합과 드롭아웃\n",
        "\n",
        "#### 머신러닝 모델에서 너무 학습 데이터에만 치중되어 테스트셋이나 시제 상황에서는 성능이 나오지 않는 것을 <b>과적합(overfitting)</b>이라고 한다. 이와 반대로 학습을 제대로 하지 않는 상황을 <b>과소적합(underfitting)</b>이라고 한다. 우리가 원하는 상태는 이 중간인 <b>일반화(generalization)</b>이다.\n",
        "\n",
        "![DNN3](https://user-images.githubusercontent.com/52277776/73606763-05810d80-45f1-11ea-8425-9a1101ec84bd.jpg)\n",
        "\n",
        "#### 앞에서 데이터셋을 학습, 검증, 테스트셋으로 나눈다고 하였다. 이는 과적합을 탐지하려는 노력의 일환이기도 하다. 학습 중간중간 검증용 데이터셋으로 과적합 상태를 확인한다. 검증 데이터셋에 대한 성능이 나빠지기 시작하기 직전이 가장 적합한 모델이라고 할 수 있는데, 이 타이밍에 모델을 저장하여 이용하는 것을 <b>조기 종료</b>라고 한다.\n",
        "\n",
        "![DNN2](https://user-images.githubusercontent.com/52277776/73606759-00bc5980-45f1-11ea-88d7-bdcdc5d7fd2b.jpg)"
      ]
    },
    {
      "cell_type": "markdown",
      "metadata": {
        "id": "t-xkNbJVgGS-",
        "colab_type": "text"
      },
      "source": [
        "#### 과적합 방지의 궁극적 방법은 세상의 모든 데이터를 모으는 것이지만 이는 부족하기에 이미 가진 데이터를 최대한 늘리는 방법을 시도한다.즉, 이미지 일부를 자르고, 돌리고, 뒤집는 등의 여러 방법을 사용한다. 여기에서는 간단히 좌우를 뒤집는 대칭이동 전략을 사용할 것이다."
      ]
    },
    {
      "cell_type": "code",
      "metadata": {
        "id": "LfZdWzmSgByO",
        "colab_type": "code",
        "colab": {}
      },
      "source": [
        "# transform에 transforms.RandomHorizontalFlip() 추가 적용\n",
        "trainset=datasets.FashionMNIST(root='./.data', train=True, download=True, transform=transforms.Compose([transforms.RandomHorizontalFlip(), transforms.ToTensor()]))\n",
        "testset=datasets.FashionMNIST(root='./.data', train=False, download=True, transform=transforms.Compose([transforms.RandomHorizontalFlip(), transforms.ToTensor()]))\n",
        "\n",
        "BATCH_SIZE=16\n",
        "train_loader=data.DataLoader(dataset=trainset, batch_size=BATCH_SIZE)\n",
        "test_loader=data.DataLoader(dataset=testset, batch_size=BATCH_SIZE)\n",
        "\n",
        "dataiter=iter(train_loader)\n",
        "images, labels=next(dataiter)"
      ],
      "execution_count": 0,
      "outputs": []
    },
    {
      "cell_type": "code",
      "metadata": {
        "id": "jyv8z0J8gLZa",
        "colab_type": "code",
        "colab": {
          "base_uri": "https://localhost:8080/",
          "height": 190
        },
        "outputId": "42f097b7-8b69-4e2c-8e04-78cc9ca816ba"
      },
      "source": [
        "img=utils.make_grid(images, padding=0)\n",
        "npimg=img.numpy()\n",
        "plt.figure(figsize=(10,7))\n",
        "plt.imshow(np.transpose(npimg,(1,2,0)))\n",
        "plt.show() # 랜덤으로 몇 개의 이미지의 좌우가 뒤집힌 것을 확인"
      ],
      "execution_count": 28,
      "outputs": [
        {
          "output_type": "display_data",
          "data": {
            "image/png": "[encoded data removed]",
            "text/plain": [
              "<Figure size 720x504 with 1 Axes>"
            ]
          },
          "metadata": {
            "tags": []
          }
        }
      ]
    },
    {
      "cell_type": "code",
      "metadata": {
        "id": "EqfVxZ3hgMrZ",
        "colab_type": "code",
        "colab": {
          "base_uri": "https://localhost:8080/",
          "height": 391,
          "referenced_widgets": [
            "14d33ac8f962497eac73f6f21f1d1bde",
            "d3fb6c200bbf42cfb66914a6a15d6dd6",
            "2bfad588550a45b489a55fa10dd5fa16",
            "ebf2ee81344c483a8c71c306abb0425b",
            "4c000e427bcf4386af2dec87d0f2afbe",
            "8a7f6656f91b4095b0b808306dbb1f22",
            "ab1e9d42aaf7427e863be7cd980aef1d",
            "c243ec34e67f4cbcb951fa7834cb1805",
            "fdf5012264454a4bafdfa231728fd620",
            "100362a4423f4b3b858b3d995c79688d",
            "6525df4100fa452b90947ebe02b50984",
            "6c0ee9f65ce645df9ffb4822ee0f7af8",
            "d39d986130fe42f5a329e0e5a4aa9c38",
            "f35e7ae7fdef44af88c91caeb81a43d2",
            "e295ed07970b4940be8ea1e3bba74ec6",
            "b48e567fff344c6fb6dcdf83d79ccb93",
            "9c76bd04e031416db3ef38b3f8c0f890",
            "d9ff4f54113040be9510983043d2ed59",
            "b1b10a7cb6b34720b5588b04cc1170dd",
            "433c5626dff240d59964bc6c75317a4b",
            "f8196ffd309a4ab3abcfc4b577af7056",
            "019d24b647a5402a8a6fac8c73cc5eca",
            "b8ec110766c74a4888483450cb3edd7e",
            "075cef1849704729a4e513bd91b506f0",
            "ede1277570fe4fa7a0d204a431cf027e",
            "b744a68eeafb4edc94b33f554f3d2ee5",
            "539585322c6a4de789c848560a517143",
            "2935352fab72410aba46c9bd1f9873a5",
            "c4b45e37d11f4493ba523329d38ab50d",
            "2abd1dba98634f4caafc95e723fc3505",
            "f134f1a279b44575aa1962b2c6fb4d61",
            "9bf2e506894046959cdfd4e9673015a6"
          ]
        },
        "outputId": "c0382d77-0f14-4d7e-c4f1-40d229d9c545"
      },
      "source": [
        "# 아래와 같은 코드로 구현 가능\n",
        "train_loader=torch.utils.data.DataLoader(datasets.MNIST('./.data', train=True, download=True, transform=transforms.Compose([transforms.RandomHorizontalFlip(), transforms.ToTensor(), transforms.Normalize((0.1307,),(0.3081,))])), batch_size=BATCH_SIZE, shuffle=True)\n",
        "test_loader=torch.utils.data.DataLoader(datasets.MNIST('./.data', train=False, transform=transforms.Compose([transforms.RandomHorizontalFlip(), transforms.ToTensor(), transforms.Normalize((0.1307,),(0.3081,))])), batch_size=BATCH_SIZE, shuffle=True)"
      ],
      "execution_count": 29,
      "outputs": [
        {
          "output_type": "stream",
          "text": [
            "Downloading http://yann.lecun.com/exdb/mnist/train-images-idx3-ubyte.gz to ./.data/MNIST/raw/train-images-idx3-ubyte.gz\n"
          ],
          "name": "stdout"
        },
        {
          "output_type": "display_data",
          "data": {
            "application/vnd.jupyter.widget-view+json": {
              "model_id": "14d33ac8f962497eac73f6f21f1d1bde",
              "version_minor": 0,
              "version_major": 2
            },
            "text/plain": [
              "HBox(children=(IntProgress(value=1, bar_style='info', max=1), HTML(value='')))"
            ]
          },
          "metadata": {
            "tags": []
          }
        },
        {
          "output_type": "stream",
          "text": [
            "\n",
            "Extracting ./.data/MNIST/raw/train-images-idx3-ubyte.gz to ./.data/MNIST/raw\n",
            "Downloading http://yann.lecun.com/exdb/mnist/train-labels-idx1-ubyte.gz to ./.data/MNIST/raw/train-labels-idx1-ubyte.gz\n"
          ],
          "name": "stdout"
        },
        {
          "output_type": "display_data",
          "data": {
            "application/vnd.jupyter.widget-view+json": {
              "model_id": "fdf5012264454a4bafdfa231728fd620",
              "version_minor": 0,
              "version_major": 2
            },
            "text/plain": [
              "HBox(children=(IntProgress(value=1, bar_style='info', max=1), HTML(value='')))"
            ]
          },
          "metadata": {
            "tags": []
          }
        },
        {
          "output_type": "stream",
          "text": [
            "\n",
            "Extracting ./.data/MNIST/raw/train-labels-idx1-ubyte.gz to ./.data/MNIST/raw\n",
            "Downloading http://yann.lecun.com/exdb/mnist/t10k-images-idx3-ubyte.gz to ./.data/MNIST/raw/t10k-images-idx3-ubyte.gz\n"
          ],
          "name": "stdout"
        },
        {
          "output_type": "display_data",
          "data": {
            "application/vnd.jupyter.widget-view+json": {
              "model_id": "9c76bd04e031416db3ef38b3f8c0f890",
              "version_minor": 0,
              "version_major": 2
            },
            "text/plain": [
              "HBox(children=(IntProgress(value=1, bar_style='info', max=1), HTML(value='')))"
            ]
          },
          "metadata": {
            "tags": []
          }
        },
        {
          "output_type": "stream",
          "text": [
            "\n",
            "Extracting ./.data/MNIST/raw/t10k-images-idx3-ubyte.gz to ./.data/MNIST/raw\n",
            "Downloading http://yann.lecun.com/exdb/mnist/t10k-labels-idx1-ubyte.gz to ./.data/MNIST/raw/t10k-labels-idx1-ubyte.gz\n"
          ],
          "name": "stdout"
        },
        {
          "output_type": "display_data",
          "data": {
            "application/vnd.jupyter.widget-view+json": {
              "model_id": "ede1277570fe4fa7a0d204a431cf027e",
              "version_minor": 0,
              "version_major": 2
            },
            "text/plain": [
              "HBox(children=(IntProgress(value=1, bar_style='info', max=1), HTML(value='')))"
            ]
          },
          "metadata": {
            "tags": []
          }
        },
        {
          "output_type": "stream",
          "text": [
            "\n",
            "Extracting ./.data/MNIST/raw/t10k-labels-idx1-ubyte.gz to ./.data/MNIST/raw\n",
            "Processing...\n",
            "Done!\n"
          ],
          "name": "stdout"
        }
      ]
    },
    {
      "cell_type": "markdown",
      "metadata": {
        "id": "e3PSEy2MgOqn",
        "colab_type": "text"
      },
      "source": [
        "#### <b>드롭아웃(dropout)</b>이란 학습 진행과정에서 신경망의 일부를 사용하지 않고, 검증과 테스트 단계에서는 모든 뉴런을 사용하는 방법이다. 이는 학습에서 배재된 뉴런 외에 다른 뉴런들에 가중치를 분산시키고 개별 뉴런이 특정에 고정되는 현상을 방지한다.\n",
        "\n",
        "![DNN1](https://user-images.githubusercontent.com/52277776/73606756-fef29600-45f0-11ea-83bc-c37d744e49d3.jpg)"
      ]
    },
    {
      "cell_type": "code",
      "metadata": {
        "id": "xQAYDgVjgSjI",
        "colab_type": "code",
        "colab": {}
      },
      "source": [
        "class Net(nn.Module):\n",
        "# 드롭아웃 확률 = 0.2로 설정, 즉 학습 시 20% 뉴련을 사용하지 않음\n",
        "    def __init__(self, dropout_p=0.2):\n",
        "        super(Net, self).__init__()\n",
        "        self.fc1 = nn.Linear(784,256)\n",
        "        self.fc2 = nn.Linear(256,128)\n",
        "        self.fc3 = nn.Linear(128,10)\n",
        "        self.dropout_p = dropout_p # 드롭아웃 확률\n",
        "    \n",
        "    def forward(self, x):\n",
        "        x = x.view(-1,784)\n",
        "        x = F.relu(self.fc1(x))\n",
        "# 학습모델에서만 드롭아웃을 적용하기 위한 self.training 입력\n",
        "        x = F.dropout(x, training=self.training, p=self.dropout_p)\n",
        "        x = F.relu(self.fc2(x))\n",
        "        x = F.dropout(x, training=self.training, p=self.dropout_p)\n",
        "        x = self.fc3(x)\n",
        "        return x"
      ],
      "execution_count": 0,
      "outputs": []
    },
    {
      "cell_type": "code",
      "metadata": {
        "id": "mZMi15fWgUeJ",
        "colab_type": "code",
        "colab": {}
      },
      "source": [
        "# 모델 선언에도 드롭아웃 확률 추가\n",
        "model=Net(dropout_p=0.2).to(DEVICE)\n",
        "optimizer=optim.SGD(model.parameters(), lr=0.01)"
      ],
      "execution_count": 0,
      "outputs": []
    },
    {
      "cell_type": "code",
      "metadata": {
        "id": "I7MXygbIgVsJ",
        "colab_type": "code",
        "colab": {}
      },
      "source": [
        "def train(model, train_loader, optimizer):\n",
        "    model.train()\n",
        "    for batch_idx, (data, target) in enumerate(train_loader):\n",
        "        data, target=data.to(DEVICE), target.to(DEVICE)\n",
        "        optimizer.zero_grad()\n",
        "        output=model(data)\n",
        "        loss=F.cross_entropy(output, target)\n",
        "        loss.backward()\n",
        "        optimizer.step()"
      ],
      "execution_count": 0,
      "outputs": []
    },
    {
      "cell_type": "code",
      "metadata": {
        "id": "a6uQw3DXgXg4",
        "colab_type": "code",
        "colab": {}
      },
      "source": [
        "def evaluate(model, test_loader):\n",
        "    model.eval()\n",
        "    test_loss=0\n",
        "    correct=0\n",
        "    with torch.no_grad():\n",
        "        for data, target in test_loader :\n",
        "            data, target=data.to(DEVICE), target.to(DEVICE)\n",
        "            output=model(data)\n",
        "            test_loss += F.cross_entropy(output, target, reduction='sum').item()\n",
        "            pred=output.max(1,keepdim=True)[1]\n",
        "            correct += pred.eq(target.view_as(pred)).sum().item()\n",
        "    test_loss /= len(test_loader.dataset)\n",
        "    test_accuracy=100.*correct / len(test_loader.dataset)\n",
        "    return test_loss, test_accuracy"
      ],
      "execution_count": 0,
      "outputs": []
    },
    {
      "cell_type": "code",
      "metadata": {
        "id": "cV9OWweGgZs_",
        "colab_type": "code",
        "colab": {
          "base_uri": "https://localhost:8080/",
          "height": 897
        },
        "outputId": "efeaf049-e65a-4c25-f1f3-4c6b7de83f38"
      },
      "source": [
        "EPOCHS=50\n",
        "for epoch in range(1, EPOCHS+1):\n",
        "    train(model, train_loader, optimizer)\n",
        "    test_loss, test_accuracy=evaluate(model, test_loader)\n",
        "    \n",
        "    print('[{}] Test Loss : {:.4f}, Accuracy : {:.2f}%'.format(epoch, test_loss, test_accuracy))"
      ],
      "execution_count": 34,
      "outputs": [
        {
          "output_type": "stream",
          "text": [
            "[1] Test Loss : 0.3113, Accuracy : 90.14%\n",
            "[2] Test Loss : 0.2120, Accuracy : 93.54%\n",
            "[3] Test Loss : 0.1635, Accuracy : 95.02%\n",
            "[4] Test Loss : 0.1434, Accuracy : 95.54%\n",
            "[5] Test Loss : 0.1318, Accuracy : 95.78%\n",
            "[6] Test Loss : 0.1202, Accuracy : 96.18%\n",
            "[7] Test Loss : 0.1124, Accuracy : 96.50%\n",
            "[8] Test Loss : 0.1111, Accuracy : 96.27%\n",
            "[9] Test Loss : 0.1014, Accuracy : 96.94%\n",
            "[10] Test Loss : 0.0976, Accuracy : 97.01%\n",
            "[11] Test Loss : 0.0932, Accuracy : 97.11%\n",
            "[12] Test Loss : 0.0970, Accuracy : 96.96%\n",
            "[13] Test Loss : 0.0896, Accuracy : 96.97%\n",
            "[14] Test Loss : 0.0939, Accuracy : 97.08%\n",
            "[15] Test Loss : 0.0877, Accuracy : 97.25%\n",
            "[16] Test Loss : 0.0918, Accuracy : 97.23%\n",
            "[17] Test Loss : 0.0884, Accuracy : 97.30%\n",
            "[18] Test Loss : 0.0853, Accuracy : 97.47%\n",
            "[19] Test Loss : 0.0815, Accuracy : 97.41%\n",
            "[20] Test Loss : 0.0857, Accuracy : 97.48%\n",
            "[21] Test Loss : 0.0794, Accuracy : 97.62%\n",
            "[22] Test Loss : 0.0821, Accuracy : 97.56%\n",
            "[23] Test Loss : 0.0846, Accuracy : 97.37%\n",
            "[24] Test Loss : 0.0811, Accuracy : 97.54%\n",
            "[25] Test Loss : 0.0835, Accuracy : 97.44%\n",
            "[26] Test Loss : 0.0784, Accuracy : 97.49%\n",
            "[27] Test Loss : 0.0768, Accuracy : 97.45%\n",
            "[28] Test Loss : 0.0764, Accuracy : 97.61%\n",
            "[29] Test Loss : 0.0832, Accuracy : 97.49%\n",
            "[30] Test Loss : 0.0772, Accuracy : 97.54%\n",
            "[31] Test Loss : 0.0834, Accuracy : 97.54%\n",
            "[32] Test Loss : 0.0790, Accuracy : 97.58%\n",
            "[33] Test Loss : 0.0802, Accuracy : 97.69%\n",
            "[34] Test Loss : 0.0825, Accuracy : 97.50%\n",
            "[35] Test Loss : 0.0837, Accuracy : 97.50%\n",
            "[36] Test Loss : 0.0760, Accuracy : 97.52%\n",
            "[37] Test Loss : 0.0813, Accuracy : 97.68%\n",
            "[38] Test Loss : 0.0826, Accuracy : 97.62%\n",
            "[39] Test Loss : 0.0807, Accuracy : 97.60%\n",
            "[40] Test Loss : 0.0828, Accuracy : 97.80%\n",
            "[41] Test Loss : 0.0800, Accuracy : 97.80%\n",
            "[42] Test Loss : 0.0814, Accuracy : 97.81%\n",
            "[43] Test Loss : 0.0826, Accuracy : 97.66%\n",
            "[44] Test Loss : 0.0808, Accuracy : 97.62%\n",
            "[45] Test Loss : 0.0758, Accuracy : 97.77%\n",
            "[46] Test Loss : 0.0813, Accuracy : 97.54%\n",
            "[47] Test Loss : 0.0769, Accuracy : 97.71%\n",
            "[48] Test Loss : 0.0790, Accuracy : 97.77%\n",
            "[49] Test Loss : 0.0783, Accuracy : 97.76%\n",
            "[50] Test Loss : 0.0830, Accuracy : 97.69%\n"
          ],
          "name": "stdout"
        }
      ]
    },
    {
      "cell_type": "markdown",
      "metadata": {
        "id": "8cLaCqW_gcB3",
        "colab_type": "text"
      },
      "source": [
        "---\n",
        "\n",
        "### 지금까지 패션 데이터를 통해 간단한 딥러닝 모델을 학습하였다. 또한 데이터셋 관리법과 성능 측정법을 알아보았고 과적합과 이를 해결하기위한 데이터 늘리기 및 드롭아웃을 배워 보았다."
      ]
    }
  ]
}